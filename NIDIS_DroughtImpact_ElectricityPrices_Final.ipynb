{
  "nbformat": 4,
  "nbformat_minor": 0,
  "metadata": {
    "colab": {
      "name": "NIDIS_DroughtImpact_ElectricityPrices_Final.ipynb",
      "provenance": [],
      "collapsed_sections": [],
      "toc_visible": true
    },
    "kernelspec": {
      "name": "python3",
      "display_name": "Python 3"
    },
    "language_info": {
      "name": "python"
    }
  },
  "cells": [
    {
      "cell_type": "code",
      "execution_count": null,
      "metadata": {
        "id": "y4m9FXNhipaS"
      },
      "outputs": [],
      "source": [
        "import pandas as pd \n",
        "import numpy as np\n",
        "import matplotlib.pyplot as plt\n",
        "import seaborn as sns\n",
        "import xgboost\n",
        "from numpy import loadtxt\n",
        "from xgboost import XGBRegressor\n",
        "import xgboost as xgb\n",
        "from hyperopt import STATUS_OK, Trials, fmin, hp, tpe\n",
        "from sklearn.metrics import mean_squared_error\n",
        "from sklearn.preprocessing import OrdinalEncoder"
      ]
    },
    {
      "cell_type": "code",
      "source": [
        "from google.colab import drive\n",
        "drive.mount('/content/drive')"
      ],
      "metadata": {
        "colab": {
          "base_uri": "https://localhost:8080/"
        },
        "id": "Z1Qrewl5kIaK",
        "outputId": "1675834c-b06b-4c78-cc32-240bbbed92c0"
      },
      "execution_count": null,
      "outputs": [
        {
          "output_type": "stream",
          "name": "stdout",
          "text": [
            "Mounted at /content/drive\n"
          ]
        }
      ]
    },
    {
      "cell_type": "markdown",
      "source": [
        "# Data Ingestion and Preprocessing"
      ],
      "metadata": {
        "id": "6gwdbZGIxetV"
      }
    },
    {
      "cell_type": "markdown",
      "source": [
        "## Merge datasets (drought index and capacity)"
      ],
      "metadata": {
        "id": "2u0xYRtjtyuj"
      }
    },
    {
      "cell_type": "code",
      "source": [
        "# Read the Drought index dataset\n",
        "drought_index = pd.read_csv('/content/drive/Shareddrives/Capstone A1_team project/2011_2021_drought.csv')"
      ],
      "metadata": {
        "id": "wiBhww2O_6sm"
      },
      "execution_count": null,
      "outputs": []
    },
    {
      "cell_type": "code",
      "source": [
        "# Display the first few rows of the drought index dataset\n",
        "drought_index.head()"
      ],
      "metadata": {
        "colab": {
          "base_uri": "https://localhost:8080/",
          "height": 206
        },
        "id": "3tyZ-UNFAIAB",
        "outputId": "c4a70916-109c-48db-e818-feed6466d2a7"
      },
      "execution_count": null,
      "outputs": [
        {
          "output_type": "execute_result",
          "data": {
            "text/plain": [
              "    MapDate StateAbbreviation      None    D0    D1    D2    D3   D4  \\\n",
              "0  20211228                CT  4,978.77  0.00  0.00  0.00  0.00  0.0   \n",
              "1  20211221                CT  4,978.77  0.00  0.00  0.00  0.00  0.0   \n",
              "2  20211214                CT  4,978.77  0.00  0.00  0.00  0.00  0.0   \n",
              "3  20211207                CT  4,978.77  0.00  0.00  0.00  0.00  0.0   \n",
              "4  20211130                CT  4,978.77  0.00  0.00  0.00  0.00  0.0   \n",
              "\n",
              "   ValidStart    ValidEnd  StatisticFormatID  \n",
              "0  2021-12-28  2022-01-03                  2  \n",
              "1  2021-12-21  2021-12-27                  2  \n",
              "2  2021-12-14  2021-12-20                  2  \n",
              "3  2021-12-07  2021-12-13                  2  \n",
              "4  2021-11-30  2021-12-06                  2  "
            ],
            "text/html": [
              "\n",
              "  <div id=\"df-3a62b4f6-13cd-42f8-aef2-9d245f3333eb\">\n",
              "    <div class=\"colab-df-container\">\n",
              "      <div>\n",
              "<style scoped>\n",
              "    .dataframe tbody tr th:only-of-type {\n",
              "        vertical-align: middle;\n",
              "    }\n",
              "\n",
              "    .dataframe tbody tr th {\n",
              "        vertical-align: top;\n",
              "    }\n",
              "\n",
              "    .dataframe thead th {\n",
              "        text-align: right;\n",
              "    }\n",
              "</style>\n",
              "<table border=\"1\" class=\"dataframe\">\n",
              "  <thead>\n",
              "    <tr style=\"text-align: right;\">\n",
              "      <th></th>\n",
              "      <th>MapDate</th>\n",
              "      <th>StateAbbreviation</th>\n",
              "      <th>None</th>\n",
              "      <th>D0</th>\n",
              "      <th>D1</th>\n",
              "      <th>D2</th>\n",
              "      <th>D3</th>\n",
              "      <th>D4</th>\n",
              "      <th>ValidStart</th>\n",
              "      <th>ValidEnd</th>\n",
              "      <th>StatisticFormatID</th>\n",
              "    </tr>\n",
              "  </thead>\n",
              "  <tbody>\n",
              "    <tr>\n",
              "      <th>0</th>\n",
              "      <td>20211228</td>\n",
              "      <td>CT</td>\n",
              "      <td>4,978.77</td>\n",
              "      <td>0.00</td>\n",
              "      <td>0.00</td>\n",
              "      <td>0.00</td>\n",
              "      <td>0.00</td>\n",
              "      <td>0.0</td>\n",
              "      <td>2021-12-28</td>\n",
              "      <td>2022-01-03</td>\n",
              "      <td>2</td>\n",
              "    </tr>\n",
              "    <tr>\n",
              "      <th>1</th>\n",
              "      <td>20211221</td>\n",
              "      <td>CT</td>\n",
              "      <td>4,978.77</td>\n",
              "      <td>0.00</td>\n",
              "      <td>0.00</td>\n",
              "      <td>0.00</td>\n",
              "      <td>0.00</td>\n",
              "      <td>0.0</td>\n",
              "      <td>2021-12-21</td>\n",
              "      <td>2021-12-27</td>\n",
              "      <td>2</td>\n",
              "    </tr>\n",
              "    <tr>\n",
              "      <th>2</th>\n",
              "      <td>20211214</td>\n",
              "      <td>CT</td>\n",
              "      <td>4,978.77</td>\n",
              "      <td>0.00</td>\n",
              "      <td>0.00</td>\n",
              "      <td>0.00</td>\n",
              "      <td>0.00</td>\n",
              "      <td>0.0</td>\n",
              "      <td>2021-12-14</td>\n",
              "      <td>2021-12-20</td>\n",
              "      <td>2</td>\n",
              "    </tr>\n",
              "    <tr>\n",
              "      <th>3</th>\n",
              "      <td>20211207</td>\n",
              "      <td>CT</td>\n",
              "      <td>4,978.77</td>\n",
              "      <td>0.00</td>\n",
              "      <td>0.00</td>\n",
              "      <td>0.00</td>\n",
              "      <td>0.00</td>\n",
              "      <td>0.0</td>\n",
              "      <td>2021-12-07</td>\n",
              "      <td>2021-12-13</td>\n",
              "      <td>2</td>\n",
              "    </tr>\n",
              "    <tr>\n",
              "      <th>4</th>\n",
              "      <td>20211130</td>\n",
              "      <td>CT</td>\n",
              "      <td>4,978.77</td>\n",
              "      <td>0.00</td>\n",
              "      <td>0.00</td>\n",
              "      <td>0.00</td>\n",
              "      <td>0.00</td>\n",
              "      <td>0.0</td>\n",
              "      <td>2021-11-30</td>\n",
              "      <td>2021-12-06</td>\n",
              "      <td>2</td>\n",
              "    </tr>\n",
              "  </tbody>\n",
              "</table>\n",
              "</div>\n",
              "      <button class=\"colab-df-convert\" onclick=\"convertToInteractive('df-3a62b4f6-13cd-42f8-aef2-9d245f3333eb')\"\n",
              "              title=\"Convert this dataframe to an interactive table.\"\n",
              "              style=\"display:none;\">\n",
              "        \n",
              "  <svg xmlns=\"http://www.w3.org/2000/svg\" height=\"24px\"viewBox=\"0 0 24 24\"\n",
              "       width=\"24px\">\n",
              "    <path d=\"M0 0h24v24H0V0z\" fill=\"none\"/>\n",
              "    <path d=\"M18.56 5.44l.94 2.06.94-2.06 2.06-.94-2.06-.94-.94-2.06-.94 2.06-2.06.94zm-11 1L8.5 8.5l.94-2.06 2.06-.94-2.06-.94L8.5 2.5l-.94 2.06-2.06.94zm10 10l.94 2.06.94-2.06 2.06-.94-2.06-.94-.94-2.06-.94 2.06-2.06.94z\"/><path d=\"M17.41 7.96l-1.37-1.37c-.4-.4-.92-.59-1.43-.59-.52 0-1.04.2-1.43.59L10.3 9.45l-7.72 7.72c-.78.78-.78 2.05 0 2.83L4 21.41c.39.39.9.59 1.41.59.51 0 1.02-.2 1.41-.59l7.78-7.78 2.81-2.81c.8-.78.8-2.07 0-2.86zM5.41 20L4 18.59l7.72-7.72 1.47 1.35L5.41 20z\"/>\n",
              "  </svg>\n",
              "      </button>\n",
              "      \n",
              "  <style>\n",
              "    .colab-df-container {\n",
              "      display:flex;\n",
              "      flex-wrap:wrap;\n",
              "      gap: 12px;\n",
              "    }\n",
              "\n",
              "    .colab-df-convert {\n",
              "      background-color: #E8F0FE;\n",
              "      border: none;\n",
              "      border-radius: 50%;\n",
              "      cursor: pointer;\n",
              "      display: none;\n",
              "      fill: #1967D2;\n",
              "      height: 32px;\n",
              "      padding: 0 0 0 0;\n",
              "      width: 32px;\n",
              "    }\n",
              "\n",
              "    .colab-df-convert:hover {\n",
              "      background-color: #E2EBFA;\n",
              "      box-shadow: 0px 1px 2px rgba(60, 64, 67, 0.3), 0px 1px 3px 1px rgba(60, 64, 67, 0.15);\n",
              "      fill: #174EA6;\n",
              "    }\n",
              "\n",
              "    [theme=dark] .colab-df-convert {\n",
              "      background-color: #3B4455;\n",
              "      fill: #D2E3FC;\n",
              "    }\n",
              "\n",
              "    [theme=dark] .colab-df-convert:hover {\n",
              "      background-color: #434B5C;\n",
              "      box-shadow: 0px 1px 3px 1px rgba(0, 0, 0, 0.15);\n",
              "      filter: drop-shadow(0px 1px 2px rgba(0, 0, 0, 0.3));\n",
              "      fill: #FFFFFF;\n",
              "    }\n",
              "  </style>\n",
              "\n",
              "      <script>\n",
              "        const buttonEl =\n",
              "          document.querySelector('#df-3a62b4f6-13cd-42f8-aef2-9d245f3333eb button.colab-df-convert');\n",
              "        buttonEl.style.display =\n",
              "          google.colab.kernel.accessAllowed ? 'block' : 'none';\n",
              "\n",
              "        async function convertToInteractive(key) {\n",
              "          const element = document.querySelector('#df-3a62b4f6-13cd-42f8-aef2-9d245f3333eb');\n",
              "          const dataTable =\n",
              "            await google.colab.kernel.invokeFunction('convertToInteractive',\n",
              "                                                     [key], {});\n",
              "          if (!dataTable) return;\n",
              "\n",
              "          const docLinkHtml = 'Like what you see? Visit the ' +\n",
              "            '<a target=\"_blank\" href=https://colab.research.google.com/notebooks/data_table.ipynb>data table notebook</a>'\n",
              "            + ' to learn more about interactive tables.';\n",
              "          element.innerHTML = '';\n",
              "          dataTable['output_type'] = 'display_data';\n",
              "          await google.colab.output.renderOutput(dataTable, element);\n",
              "          const docLink = document.createElement('div');\n",
              "          docLink.innerHTML = docLinkHtml;\n",
              "          element.appendChild(docLink);\n",
              "        }\n",
              "      </script>\n",
              "    </div>\n",
              "  </div>\n",
              "  "
            ]
          },
          "metadata": {},
          "execution_count": 4
        }
      ]
    },
    {
      "cell_type": "code",
      "source": [
        "# Create year, month, and state columns for merging\n",
        "drought_index['Year'] = drought_index['MapDate'].astype(str).str[0:4].astype('int')\n",
        "drought_index['Month'] = drought_index['MapDate'].astype(str).str[4:6].astype('int')\n",
        "drought_index.rename(columns={'StateAbbreviation':'State'}, inplace=True)"
      ],
      "metadata": {
        "id": "9Z5tqhp7Aj7B"
      },
      "execution_count": null,
      "outputs": []
    },
    {
      "cell_type": "code",
      "source": [
        "# Keep columns of interest\n",
        "drought_index.drop(columns=['MapDate','ValidStart','ValidEnd','StatisticFormatID'], inplace=True)"
      ],
      "metadata": {
        "id": "jK8WFhJVBDDA"
      },
      "execution_count": null,
      "outputs": []
    },
    {
      "cell_type": "code",
      "source": [
        "# Inspect data types\n",
        "drought_index.info()"
      ],
      "metadata": {
        "id": "VHFuG2zYE-Tx",
        "colab": {
          "base_uri": "https://localhost:8080/"
        },
        "outputId": "2f558aef-0aae-46df-9758-35ea3b2a692e"
      },
      "execution_count": null,
      "outputs": [
        {
          "output_type": "stream",
          "name": "stdout",
          "text": [
            "<class 'pandas.core.frame.DataFrame'>\n",
            "RangeIndex: 4025 entries, 0 to 4024\n",
            "Data columns (total 9 columns):\n",
            " #   Column  Non-Null Count  Dtype  \n",
            "---  ------  --------------  -----  \n",
            " 0   State   4025 non-null   object \n",
            " 1   None    4025 non-null   object \n",
            " 2   D0      4025 non-null   object \n",
            " 3   D1      4025 non-null   object \n",
            " 4   D2      4025 non-null   object \n",
            " 5   D3      4025 non-null   object \n",
            " 6   D4      4025 non-null   float64\n",
            " 7   Year    4025 non-null   int64  \n",
            " 8   Month   4025 non-null   int64  \n",
            "dtypes: float64(1), int64(2), object(6)\n",
            "memory usage: 283.1+ KB\n"
          ]
        }
      ]
    },
    {
      "cell_type": "code",
      "source": [
        "def str_to_num_converter(df, col_list):\n",
        "    \"\"\" Converting features from string type to numeric data type.\n",
        "    This function should be called before handling outliers.\n",
        "    \n",
        "    :param df: a dataframe with data type inconsistency issue\n",
        "    :type df: pandas dataframe\n",
        "    :param col_list: a list of columns that needs to be cast in numeric form\n",
        "    :type column: list\n",
        "    \"\"\"\n",
        "    \n",
        "    # Iterate through a list of columns that require handling\n",
        "    for col in col_list:\n",
        "\n",
        "        # Use regular expression to extract numerical data only\n",
        "        df[col] = df[col].astype('str')\n",
        "        df[col] = df[col].str.replace(',','')\n",
        "        df[col] = df[col].str.extract('(\\d+)')\n",
        "            \n",
        "        # Convert data type to numeric, set invalid parsing as NaN by specifying error to 'coerce'\n",
        "        df[col] = pd.to_numeric(df[col], errors='coerce')\n",
        "        print(\"All values in {} have been converted to numeric, exceptions are casted to NaN values.\".format(col))\n",
        "        # We will come back to NaN imputation after we handle outliers"
      ],
      "metadata": {
        "id": "v2hanWTCFIbC"
      },
      "execution_count": null,
      "outputs": []
    },
    {
      "cell_type": "code",
      "source": [
        "\n",
        "# convert from string to number\n",
        "str_to_num_converter(drought_index, ['None','D0','D1','D2','D3'])"
      ],
      "metadata": {
        "colab": {
          "base_uri": "https://localhost:8080/"
        },
        "id": "fHACviM9FKnE",
        "outputId": "788459d0-f5da-4c37-b9a6-5348d5542062"
      },
      "execution_count": null,
      "outputs": [
        {
          "output_type": "stream",
          "name": "stdout",
          "text": [
            "All values in None have been converted to numeric, exceptions are casted to NaN values.\n",
            "All values in D0 have been converted to numeric, exceptions are casted to NaN values.\n",
            "All values in D1 have been converted to numeric, exceptions are casted to NaN values.\n",
            "All values in D2 have been converted to numeric, exceptions are casted to NaN values.\n",
            "All values in D3 have been converted to numeric, exceptions are casted to NaN values.\n"
          ]
        }
      ]
    },
    {
      "cell_type": "code",
      "source": [
        "\n",
        "# Check our cleaned drought index\n",
        "drought_index.head(5)"
      ],
      "metadata": {
        "id": "tJbvVuNPB-7v",
        "colab": {
          "base_uri": "https://localhost:8080/",
          "height": 206
        },
        "outputId": "814311aa-1c74-4306-a50f-d011b48a17e9"
      },
      "execution_count": null,
      "outputs": [
        {
          "output_type": "execute_result",
          "data": {
            "text/plain": [
              "  State  None  D0  D1  D2  D3   D4  Year  Month\n",
              "0    CT  4978   0   0   0   0  0.0  2021     12\n",
              "1    CT  4978   0   0   0   0  0.0  2021     12\n",
              "2    CT  4978   0   0   0   0  0.0  2021     12\n",
              "3    CT  4978   0   0   0   0  0.0  2021     12\n",
              "4    CT  4978   0   0   0   0  0.0  2021     11"
            ],
            "text/html": [
              "\n",
              "  <div id=\"df-105d256a-7e69-4f43-9458-6f569d1e5f20\">\n",
              "    <div class=\"colab-df-container\">\n",
              "      <div>\n",
              "<style scoped>\n",
              "    .dataframe tbody tr th:only-of-type {\n",
              "        vertical-align: middle;\n",
              "    }\n",
              "\n",
              "    .dataframe tbody tr th {\n",
              "        vertical-align: top;\n",
              "    }\n",
              "\n",
              "    .dataframe thead th {\n",
              "        text-align: right;\n",
              "    }\n",
              "</style>\n",
              "<table border=\"1\" class=\"dataframe\">\n",
              "  <thead>\n",
              "    <tr style=\"text-align: right;\">\n",
              "      <th></th>\n",
              "      <th>State</th>\n",
              "      <th>None</th>\n",
              "      <th>D0</th>\n",
              "      <th>D1</th>\n",
              "      <th>D2</th>\n",
              "      <th>D3</th>\n",
              "      <th>D4</th>\n",
              "      <th>Year</th>\n",
              "      <th>Month</th>\n",
              "    </tr>\n",
              "  </thead>\n",
              "  <tbody>\n",
              "    <tr>\n",
              "      <th>0</th>\n",
              "      <td>CT</td>\n",
              "      <td>4978</td>\n",
              "      <td>0</td>\n",
              "      <td>0</td>\n",
              "      <td>0</td>\n",
              "      <td>0</td>\n",
              "      <td>0.0</td>\n",
              "      <td>2021</td>\n",
              "      <td>12</td>\n",
              "    </tr>\n",
              "    <tr>\n",
              "      <th>1</th>\n",
              "      <td>CT</td>\n",
              "      <td>4978</td>\n",
              "      <td>0</td>\n",
              "      <td>0</td>\n",
              "      <td>0</td>\n",
              "      <td>0</td>\n",
              "      <td>0.0</td>\n",
              "      <td>2021</td>\n",
              "      <td>12</td>\n",
              "    </tr>\n",
              "    <tr>\n",
              "      <th>2</th>\n",
              "      <td>CT</td>\n",
              "      <td>4978</td>\n",
              "      <td>0</td>\n",
              "      <td>0</td>\n",
              "      <td>0</td>\n",
              "      <td>0</td>\n",
              "      <td>0.0</td>\n",
              "      <td>2021</td>\n",
              "      <td>12</td>\n",
              "    </tr>\n",
              "    <tr>\n",
              "      <th>3</th>\n",
              "      <td>CT</td>\n",
              "      <td>4978</td>\n",
              "      <td>0</td>\n",
              "      <td>0</td>\n",
              "      <td>0</td>\n",
              "      <td>0</td>\n",
              "      <td>0.0</td>\n",
              "      <td>2021</td>\n",
              "      <td>12</td>\n",
              "    </tr>\n",
              "    <tr>\n",
              "      <th>4</th>\n",
              "      <td>CT</td>\n",
              "      <td>4978</td>\n",
              "      <td>0</td>\n",
              "      <td>0</td>\n",
              "      <td>0</td>\n",
              "      <td>0</td>\n",
              "      <td>0.0</td>\n",
              "      <td>2021</td>\n",
              "      <td>11</td>\n",
              "    </tr>\n",
              "  </tbody>\n",
              "</table>\n",
              "</div>\n",
              "      <button class=\"colab-df-convert\" onclick=\"convertToInteractive('df-105d256a-7e69-4f43-9458-6f569d1e5f20')\"\n",
              "              title=\"Convert this dataframe to an interactive table.\"\n",
              "              style=\"display:none;\">\n",
              "        \n",
              "  <svg xmlns=\"http://www.w3.org/2000/svg\" height=\"24px\"viewBox=\"0 0 24 24\"\n",
              "       width=\"24px\">\n",
              "    <path d=\"M0 0h24v24H0V0z\" fill=\"none\"/>\n",
              "    <path d=\"M18.56 5.44l.94 2.06.94-2.06 2.06-.94-2.06-.94-.94-2.06-.94 2.06-2.06.94zm-11 1L8.5 8.5l.94-2.06 2.06-.94-2.06-.94L8.5 2.5l-.94 2.06-2.06.94zm10 10l.94 2.06.94-2.06 2.06-.94-2.06-.94-.94-2.06-.94 2.06-2.06.94z\"/><path d=\"M17.41 7.96l-1.37-1.37c-.4-.4-.92-.59-1.43-.59-.52 0-1.04.2-1.43.59L10.3 9.45l-7.72 7.72c-.78.78-.78 2.05 0 2.83L4 21.41c.39.39.9.59 1.41.59.51 0 1.02-.2 1.41-.59l7.78-7.78 2.81-2.81c.8-.78.8-2.07 0-2.86zM5.41 20L4 18.59l7.72-7.72 1.47 1.35L5.41 20z\"/>\n",
              "  </svg>\n",
              "      </button>\n",
              "      \n",
              "  <style>\n",
              "    .colab-df-container {\n",
              "      display:flex;\n",
              "      flex-wrap:wrap;\n",
              "      gap: 12px;\n",
              "    }\n",
              "\n",
              "    .colab-df-convert {\n",
              "      background-color: #E8F0FE;\n",
              "      border: none;\n",
              "      border-radius: 50%;\n",
              "      cursor: pointer;\n",
              "      display: none;\n",
              "      fill: #1967D2;\n",
              "      height: 32px;\n",
              "      padding: 0 0 0 0;\n",
              "      width: 32px;\n",
              "    }\n",
              "\n",
              "    .colab-df-convert:hover {\n",
              "      background-color: #E2EBFA;\n",
              "      box-shadow: 0px 1px 2px rgba(60, 64, 67, 0.3), 0px 1px 3px 1px rgba(60, 64, 67, 0.15);\n",
              "      fill: #174EA6;\n",
              "    }\n",
              "\n",
              "    [theme=dark] .colab-df-convert {\n",
              "      background-color: #3B4455;\n",
              "      fill: #D2E3FC;\n",
              "    }\n",
              "\n",
              "    [theme=dark] .colab-df-convert:hover {\n",
              "      background-color: #434B5C;\n",
              "      box-shadow: 0px 1px 3px 1px rgba(0, 0, 0, 0.15);\n",
              "      filter: drop-shadow(0px 1px 2px rgba(0, 0, 0, 0.3));\n",
              "      fill: #FFFFFF;\n",
              "    }\n",
              "  </style>\n",
              "\n",
              "      <script>\n",
              "        const buttonEl =\n",
              "          document.querySelector('#df-105d256a-7e69-4f43-9458-6f569d1e5f20 button.colab-df-convert');\n",
              "        buttonEl.style.display =\n",
              "          google.colab.kernel.accessAllowed ? 'block' : 'none';\n",
              "\n",
              "        async function convertToInteractive(key) {\n",
              "          const element = document.querySelector('#df-105d256a-7e69-4f43-9458-6f569d1e5f20');\n",
              "          const dataTable =\n",
              "            await google.colab.kernel.invokeFunction('convertToInteractive',\n",
              "                                                     [key], {});\n",
              "          if (!dataTable) return;\n",
              "\n",
              "          const docLinkHtml = 'Like what you see? Visit the ' +\n",
              "            '<a target=\"_blank\" href=https://colab.research.google.com/notebooks/data_table.ipynb>data table notebook</a>'\n",
              "            + ' to learn more about interactive tables.';\n",
              "          element.innerHTML = '';\n",
              "          dataTable['output_type'] = 'display_data';\n",
              "          await google.colab.output.renderOutput(dataTable, element);\n",
              "          const docLink = document.createElement('div');\n",
              "          docLink.innerHTML = docLinkHtml;\n",
              "          element.appendChild(docLink);\n",
              "        }\n",
              "      </script>\n",
              "    </div>\n",
              "  </div>\n",
              "  "
            ]
          },
          "metadata": {},
          "execution_count": 10
        }
      ]
    },
    {
      "cell_type": "code",
      "source": [
        "# calculate average drought index on a monthly level\n",
        "drought_index = drought_index.groupby(by=['Year','Month','State']).mean().reset_index()"
      ],
      "metadata": {
        "id": "fCMPptV3Dwle"
      },
      "execution_count": null,
      "outputs": []
    },
    {
      "cell_type": "code",
      "source": [
        "# Merge with our previously cleaned data on github\n",
        "df = pd.read_csv('https://raw.githubusercontent.com/chinarbu/BU_NIDIS_TeamA1_Capstone/main/Energy_level.csv')\n",
        "    #df = df.merge(drought_index, on=['Year','Month','State'], how='left')"
      ],
      "metadata": {
        "id": "mSMpyjl9DmxG"
      },
      "execution_count": null,
      "outputs": []
    },
    {
      "cell_type": "code",
      "source": [
        "# Remove water usage realted columns to perserve data quality\n",
        "#df = df.iloc[:,0:10].join(df.iloc[:,-6:])"
      ],
      "metadata": {
        "id": "NhpqpQJWFuUe"
      },
      "execution_count": null,
      "outputs": []
    },
    {
      "cell_type": "code",
      "source": [
        "df.columns"
      ],
      "metadata": {
        "colab": {
          "base_uri": "https://localhost:8080/"
        },
        "id": "3JLu12BuQKpC",
        "outputId": "f8fc5be0-333f-4903-a0f7-8af006c59f95"
      },
      "execution_count": null,
      "outputs": [
        {
          "output_type": "execute_result",
          "data": {
            "text/plain": [
              "Index(['Unnamed: 0', 'Year', 'Month', 'State', 'Revenue(Thousand $)',\n",
              "       'Consumption(Megawatthours)', 'Customers(Count)', 'Price(Cents/kWh)',\n",
              "       'Precipitation', 'Temperature', 'nat_gas_to_elect_power', 'None', 'D0',\n",
              "       'D1', 'D2', 'D3', 'D4', 'PDSI'],\n",
              "      dtype='object')"
            ]
          },
          "metadata": {},
          "execution_count": 14
        }
      ]
    },
    {
      "cell_type": "code",
      "source": [
        "df.drop(columns='Unnamed: 0',inplace=True)"
      ],
      "metadata": {
        "id": "VZvkD8LaQUv5"
      },
      "execution_count": null,
      "outputs": []
    },
    {
      "cell_type": "code",
      "source": [
        "# Read plant level data\n",
        "plantD = pd.read_csv('https://raw.githubusercontent.com/chinarbu/BU_NIDIS_TeamA1_Capstone/main/Plant_level.csv')"
      ],
      "metadata": {
        "id": "_mEbEuyCkMGQ"
      },
      "execution_count": null,
      "outputs": []
    },
    {
      "cell_type": "code",
      "source": [
        "plantD.info()"
      ],
      "metadata": {
        "colab": {
          "base_uri": "https://localhost:8080/"
        },
        "id": "A5KX1ZHFMHhK",
        "outputId": "9dadb015-1a2b-4a8f-f4bc-e7afb7c07989"
      },
      "execution_count": null,
      "outputs": [
        {
          "output_type": "stream",
          "name": "stdout",
          "text": [
            "<class 'pandas.core.frame.DataFrame'>\n",
            "RangeIndex: 142 entries, 0 to 141\n",
            "Data columns (total 64 columns):\n",
            " #   Column                   Non-Null Count  Dtype  \n",
            "---  ------                   --------------  -----  \n",
            " 0   Plant id                 142 non-null    int64  \n",
            " 1   Plant name               142 non-null    object \n",
            " 2   County                   142 non-null    object \n",
            " 3   State                    142 non-null    object \n",
            " 4   state county fips        142 non-null    int64  \n",
            " 5   water source             138 non-null    object \n",
            " 6   Latitude                 139 non-null    float64\n",
            " 7   Longitude                139 non-null    float64\n",
            " 8   elevation_in_feet        139 non-null    float64\n",
            " 9   com_id                   137 non-null    float64\n",
            " 10  gen type                 141 non-null    object \n",
            " 11  CAPACITY_MW              141 non-null    float64\n",
            " 12  CHP                      141 non-null    float64\n",
            " 13  USGS_WATER_TYPE          139 non-null    object \n",
            " 14  MODEL_COOL_TYPE          139 non-null    object \n",
            " 15  MODEL_WD                 139 non-null    float64\n",
            " 16  MODEL_MIN_WD             139 non-null    float64\n",
            " 17  MODEL_MAX_WD             139 non-null    float64\n",
            " 18  EIA_COOL_TYPE            139 non-null    object \n",
            " 19  EIA_WD                   139 non-null    object \n",
            " 20  EIA_WD_INRANGE           59 non-null     object \n",
            " 21  COMP_COOL_TYPE           142 non-null    object \n",
            " 22  COMP_DATA_SOURCE         142 non-null    object \n",
            " 23  COMP_WD                  142 non-null    object \n",
            " 24  COMP_TOTAL_WD            142 non-null    object \n",
            " 25  COMP_WD_INRANGE          97 non-null     object \n",
            " 26  NET_GEN_MWH              141 non-null    float64\n",
            " 27  MAX_WITHDRAWAL           114 non-null    float64\n",
            " 28  MIN_CONSUMPTION          114 non-null    float64\n",
            " 29  MAX_CONSUMPTION          114 non-null    float64\n",
            " 30  MIN_CONSUMPTION.1        114 non-null    float64\n",
            " 31  Precipitation_1971-2000  142 non-null    float64\n",
            " 32  Precipitation_2011       142 non-null    float64\n",
            " 33  Precipitation_2012       142 non-null    float64\n",
            " 34  Precipitation_2013       142 non-null    float64\n",
            " 35  Precipitation_2014       142 non-null    float64\n",
            " 36  Precipitation_2015       142 non-null    float64\n",
            " 37  Precipitation_2016       142 non-null    float64\n",
            " 38  Precipitation_2017       142 non-null    float64\n",
            " 39  Precipitation_2018       142 non-null    float64\n",
            " 40  Precipitation_2019       142 non-null    float64\n",
            " 41  Precipitation_2020       142 non-null    float64\n",
            " 42  Precipitation_2021       142 non-null    float64\n",
            " 43  Temperature_2011         142 non-null    object \n",
            " 44  Temperature_2012         142 non-null    float64\n",
            " 45  Temperature_2013         142 non-null    float64\n",
            " 46  Temperature_2014         142 non-null    float64\n",
            " 47  Temperature_2015         142 non-null    float64\n",
            " 48  Temperature_2016         142 non-null    float64\n",
            " 49  Temperature_2017         142 non-null    float64\n",
            " 50  Temperature_2018         142 non-null    float64\n",
            " 51  Temperature_2019         142 non-null    float64\n",
            " 52  Temperature_2020         142 non-null    float64\n",
            " 53  Temperature_2021         142 non-null    float64\n",
            " 54  Unnamed: 54              0 non-null      float64\n",
            " 55  Unnamed: 55              0 non-null      float64\n",
            " 56  Unnamed: 56              0 non-null      float64\n",
            " 57  Unnamed: 57              0 non-null      float64\n",
            " 58  Unnamed: 58              0 non-null      float64\n",
            " 59  Unnamed: 59              0 non-null      float64\n",
            " 60  Unnamed: 60              0 non-null      float64\n",
            " 61  Unnamed: 61              0 non-null      float64\n",
            " 62  Unnamed: 62              0 non-null      float64\n",
            " 63  Unnamed: 63              0 non-null      float64\n",
            "dtypes: float64(46), int64(2), object(16)\n",
            "memory usage: 71.1+ KB\n"
          ]
        }
      ]
    },
    {
      "cell_type": "code",
      "source": [
        "plantD.head()"
      ],
      "metadata": {
        "colab": {
          "base_uri": "https://localhost:8080/",
          "height": 438
        },
        "id": "paitZA70Q7LE",
        "outputId": "4a157837-7c62-46b2-e0f8-67d467c5b1b9"
      },
      "execution_count": null,
      "outputs": [
        {
          "output_type": "execute_result",
          "data": {
            "text/plain": [
              "   Plant id         Plant name       County State  state county fips  \\\n",
              "0       546   Montville Station  New London    CT               9011   \n",
              "1       548  NRG Norwalk Harbor   Fairfield    CT               9001   \n",
              "2       562          Middletown   Middlesex    CT               9007   \n",
              "3       566           Millstone  New London    CT               9011   \n",
              "4       568  Bridgeport Station   Fairfield    CT               9001   \n",
              "\n",
              "        water source  Latitude  Longitude  elevation_in_feet     com_id  ...  \\\n",
              "0       Thames River  41.42788   -72.1010                0.0  6171772.0  ...   \n",
              "1  Long Island Sound  41.07302   -73.4111                0.0  7734299.0  ...   \n",
              "2  Connecticut River  41.55493   -72.5793               20.0  7701182.0  ...   \n",
              "3  Long Island Sound  41.31145   -72.1679                0.0  6170916.0  ...   \n",
              "4  Bridgeport Harbor  41.17141   -73.1840                0.0  7734269.0  ...   \n",
              "\n",
              "  Unnamed: 54  Unnamed: 55  Unnamed: 56 Unnamed: 57 Unnamed: 58  Unnamed: 59  \\\n",
              "0         NaN          NaN          NaN         NaN         NaN          NaN   \n",
              "1         NaN          NaN          NaN         NaN         NaN          NaN   \n",
              "2         NaN          NaN          NaN         NaN         NaN          NaN   \n",
              "3         NaN          NaN          NaN         NaN         NaN          NaN   \n",
              "4         NaN          NaN          NaN         NaN         NaN          NaN   \n",
              "\n",
              "   Unnamed: 60  Unnamed: 61 Unnamed: 62 Unnamed: 63  \n",
              "0          NaN          NaN         NaN         NaN  \n",
              "1          NaN          NaN         NaN         NaN  \n",
              "2          NaN          NaN         NaN         NaN  \n",
              "3          NaN          NaN         NaN         NaN  \n",
              "4          NaN          NaN         NaN         NaN  \n",
              "\n",
              "[5 rows x 64 columns]"
            ],
            "text/html": [
              "\n",
              "  <div id=\"df-3e3c5de4-0d78-4c7c-99b0-38bdf81c8b71\">\n",
              "    <div class=\"colab-df-container\">\n",
              "      <div>\n",
              "<style scoped>\n",
              "    .dataframe tbody tr th:only-of-type {\n",
              "        vertical-align: middle;\n",
              "    }\n",
              "\n",
              "    .dataframe tbody tr th {\n",
              "        vertical-align: top;\n",
              "    }\n",
              "\n",
              "    .dataframe thead th {\n",
              "        text-align: right;\n",
              "    }\n",
              "</style>\n",
              "<table border=\"1\" class=\"dataframe\">\n",
              "  <thead>\n",
              "    <tr style=\"text-align: right;\">\n",
              "      <th></th>\n",
              "      <th>Plant id</th>\n",
              "      <th>Plant name</th>\n",
              "      <th>County</th>\n",
              "      <th>State</th>\n",
              "      <th>state county fips</th>\n",
              "      <th>water source</th>\n",
              "      <th>Latitude</th>\n",
              "      <th>Longitude</th>\n",
              "      <th>elevation_in_feet</th>\n",
              "      <th>com_id</th>\n",
              "      <th>...</th>\n",
              "      <th>Unnamed: 54</th>\n",
              "      <th>Unnamed: 55</th>\n",
              "      <th>Unnamed: 56</th>\n",
              "      <th>Unnamed: 57</th>\n",
              "      <th>Unnamed: 58</th>\n",
              "      <th>Unnamed: 59</th>\n",
              "      <th>Unnamed: 60</th>\n",
              "      <th>Unnamed: 61</th>\n",
              "      <th>Unnamed: 62</th>\n",
              "      <th>Unnamed: 63</th>\n",
              "    </tr>\n",
              "  </thead>\n",
              "  <tbody>\n",
              "    <tr>\n",
              "      <th>0</th>\n",
              "      <td>546</td>\n",
              "      <td>Montville Station</td>\n",
              "      <td>New London</td>\n",
              "      <td>CT</td>\n",
              "      <td>9011</td>\n",
              "      <td>Thames River</td>\n",
              "      <td>41.42788</td>\n",
              "      <td>-72.1010</td>\n",
              "      <td>0.0</td>\n",
              "      <td>6171772.0</td>\n",
              "      <td>...</td>\n",
              "      <td>NaN</td>\n",
              "      <td>NaN</td>\n",
              "      <td>NaN</td>\n",
              "      <td>NaN</td>\n",
              "      <td>NaN</td>\n",
              "      <td>NaN</td>\n",
              "      <td>NaN</td>\n",
              "      <td>NaN</td>\n",
              "      <td>NaN</td>\n",
              "      <td>NaN</td>\n",
              "    </tr>\n",
              "    <tr>\n",
              "      <th>1</th>\n",
              "      <td>548</td>\n",
              "      <td>NRG Norwalk Harbor</td>\n",
              "      <td>Fairfield</td>\n",
              "      <td>CT</td>\n",
              "      <td>9001</td>\n",
              "      <td>Long Island Sound</td>\n",
              "      <td>41.07302</td>\n",
              "      <td>-73.4111</td>\n",
              "      <td>0.0</td>\n",
              "      <td>7734299.0</td>\n",
              "      <td>...</td>\n",
              "      <td>NaN</td>\n",
              "      <td>NaN</td>\n",
              "      <td>NaN</td>\n",
              "      <td>NaN</td>\n",
              "      <td>NaN</td>\n",
              "      <td>NaN</td>\n",
              "      <td>NaN</td>\n",
              "      <td>NaN</td>\n",
              "      <td>NaN</td>\n",
              "      <td>NaN</td>\n",
              "    </tr>\n",
              "    <tr>\n",
              "      <th>2</th>\n",
              "      <td>562</td>\n",
              "      <td>Middletown</td>\n",
              "      <td>Middlesex</td>\n",
              "      <td>CT</td>\n",
              "      <td>9007</td>\n",
              "      <td>Connecticut River</td>\n",
              "      <td>41.55493</td>\n",
              "      <td>-72.5793</td>\n",
              "      <td>20.0</td>\n",
              "      <td>7701182.0</td>\n",
              "      <td>...</td>\n",
              "      <td>NaN</td>\n",
              "      <td>NaN</td>\n",
              "      <td>NaN</td>\n",
              "      <td>NaN</td>\n",
              "      <td>NaN</td>\n",
              "      <td>NaN</td>\n",
              "      <td>NaN</td>\n",
              "      <td>NaN</td>\n",
              "      <td>NaN</td>\n",
              "      <td>NaN</td>\n",
              "    </tr>\n",
              "    <tr>\n",
              "      <th>3</th>\n",
              "      <td>566</td>\n",
              "      <td>Millstone</td>\n",
              "      <td>New London</td>\n",
              "      <td>CT</td>\n",
              "      <td>9011</td>\n",
              "      <td>Long Island Sound</td>\n",
              "      <td>41.31145</td>\n",
              "      <td>-72.1679</td>\n",
              "      <td>0.0</td>\n",
              "      <td>6170916.0</td>\n",
              "      <td>...</td>\n",
              "      <td>NaN</td>\n",
              "      <td>NaN</td>\n",
              "      <td>NaN</td>\n",
              "      <td>NaN</td>\n",
              "      <td>NaN</td>\n",
              "      <td>NaN</td>\n",
              "      <td>NaN</td>\n",
              "      <td>NaN</td>\n",
              "      <td>NaN</td>\n",
              "      <td>NaN</td>\n",
              "    </tr>\n",
              "    <tr>\n",
              "      <th>4</th>\n",
              "      <td>568</td>\n",
              "      <td>Bridgeport Station</td>\n",
              "      <td>Fairfield</td>\n",
              "      <td>CT</td>\n",
              "      <td>9001</td>\n",
              "      <td>Bridgeport Harbor</td>\n",
              "      <td>41.17141</td>\n",
              "      <td>-73.1840</td>\n",
              "      <td>0.0</td>\n",
              "      <td>7734269.0</td>\n",
              "      <td>...</td>\n",
              "      <td>NaN</td>\n",
              "      <td>NaN</td>\n",
              "      <td>NaN</td>\n",
              "      <td>NaN</td>\n",
              "      <td>NaN</td>\n",
              "      <td>NaN</td>\n",
              "      <td>NaN</td>\n",
              "      <td>NaN</td>\n",
              "      <td>NaN</td>\n",
              "      <td>NaN</td>\n",
              "    </tr>\n",
              "  </tbody>\n",
              "</table>\n",
              "<p>5 rows × 64 columns</p>\n",
              "</div>\n",
              "      <button class=\"colab-df-convert\" onclick=\"convertToInteractive('df-3e3c5de4-0d78-4c7c-99b0-38bdf81c8b71')\"\n",
              "              title=\"Convert this dataframe to an interactive table.\"\n",
              "              style=\"display:none;\">\n",
              "        \n",
              "  <svg xmlns=\"http://www.w3.org/2000/svg\" height=\"24px\"viewBox=\"0 0 24 24\"\n",
              "       width=\"24px\">\n",
              "    <path d=\"M0 0h24v24H0V0z\" fill=\"none\"/>\n",
              "    <path d=\"M18.56 5.44l.94 2.06.94-2.06 2.06-.94-2.06-.94-.94-2.06-.94 2.06-2.06.94zm-11 1L8.5 8.5l.94-2.06 2.06-.94-2.06-.94L8.5 2.5l-.94 2.06-2.06.94zm10 10l.94 2.06.94-2.06 2.06-.94-2.06-.94-.94-2.06-.94 2.06-2.06.94z\"/><path d=\"M17.41 7.96l-1.37-1.37c-.4-.4-.92-.59-1.43-.59-.52 0-1.04.2-1.43.59L10.3 9.45l-7.72 7.72c-.78.78-.78 2.05 0 2.83L4 21.41c.39.39.9.59 1.41.59.51 0 1.02-.2 1.41-.59l7.78-7.78 2.81-2.81c.8-.78.8-2.07 0-2.86zM5.41 20L4 18.59l7.72-7.72 1.47 1.35L5.41 20z\"/>\n",
              "  </svg>\n",
              "      </button>\n",
              "      \n",
              "  <style>\n",
              "    .colab-df-container {\n",
              "      display:flex;\n",
              "      flex-wrap:wrap;\n",
              "      gap: 12px;\n",
              "    }\n",
              "\n",
              "    .colab-df-convert {\n",
              "      background-color: #E8F0FE;\n",
              "      border: none;\n",
              "      border-radius: 50%;\n",
              "      cursor: pointer;\n",
              "      display: none;\n",
              "      fill: #1967D2;\n",
              "      height: 32px;\n",
              "      padding: 0 0 0 0;\n",
              "      width: 32px;\n",
              "    }\n",
              "\n",
              "    .colab-df-convert:hover {\n",
              "      background-color: #E2EBFA;\n",
              "      box-shadow: 0px 1px 2px rgba(60, 64, 67, 0.3), 0px 1px 3px 1px rgba(60, 64, 67, 0.15);\n",
              "      fill: #174EA6;\n",
              "    }\n",
              "\n",
              "    [theme=dark] .colab-df-convert {\n",
              "      background-color: #3B4455;\n",
              "      fill: #D2E3FC;\n",
              "    }\n",
              "\n",
              "    [theme=dark] .colab-df-convert:hover {\n",
              "      background-color: #434B5C;\n",
              "      box-shadow: 0px 1px 3px 1px rgba(0, 0, 0, 0.15);\n",
              "      filter: drop-shadow(0px 1px 2px rgba(0, 0, 0, 0.3));\n",
              "      fill: #FFFFFF;\n",
              "    }\n",
              "  </style>\n",
              "\n",
              "      <script>\n",
              "        const buttonEl =\n",
              "          document.querySelector('#df-3e3c5de4-0d78-4c7c-99b0-38bdf81c8b71 button.colab-df-convert');\n",
              "        buttonEl.style.display =\n",
              "          google.colab.kernel.accessAllowed ? 'block' : 'none';\n",
              "\n",
              "        async function convertToInteractive(key) {\n",
              "          const element = document.querySelector('#df-3e3c5de4-0d78-4c7c-99b0-38bdf81c8b71');\n",
              "          const dataTable =\n",
              "            await google.colab.kernel.invokeFunction('convertToInteractive',\n",
              "                                                     [key], {});\n",
              "          if (!dataTable) return;\n",
              "\n",
              "          const docLinkHtml = 'Like what you see? Visit the ' +\n",
              "            '<a target=\"_blank\" href=https://colab.research.google.com/notebooks/data_table.ipynb>data table notebook</a>'\n",
              "            + ' to learn more about interactive tables.';\n",
              "          element.innerHTML = '';\n",
              "          dataTable['output_type'] = 'display_data';\n",
              "          await google.colab.output.renderOutput(dataTable, element);\n",
              "          const docLink = document.createElement('div');\n",
              "          docLink.innerHTML = docLinkHtml;\n",
              "          element.appendChild(docLink);\n",
              "        }\n",
              "      </script>\n",
              "    </div>\n",
              "  </div>\n",
              "  "
            ]
          },
          "metadata": {},
          "execution_count": 18
        }
      ]
    },
    {
      "cell_type": "code",
      "source": [
        "# Group plant level data by state, and calculate the overall capacity in MWH and MW\n",
        "plant = plantD.groupby('State')[['CAPACITY_MW','NET_GEN_MWH']].mean()\n",
        "plant['CAPACITY_MWH'] = plant['CAPACITY_MW']*24*30\n",
        "plant.head(5)"
      ],
      "metadata": {
        "colab": {
          "base_uri": "https://localhost:8080/",
          "height": 237
        },
        "id": "JFWlSq98lU1J",
        "outputId": "44ff8e07-5b54-4da4-db4d-631bee373879"
      },
      "execution_count": null,
      "outputs": [
        {
          "output_type": "execute_result",
          "data": {
            "text/plain": [
              "       CAPACITY_MW   NET_GEN_MWH   CAPACITY_MWH\n",
              "State                                          \n",
              "CT      362.038889  1.578153e+06  260668.000000\n",
              "MA      362.695455  1.395764e+06  261140.727273\n",
              "ME      185.278571  5.896468e+05  133400.571429\n",
              "NH      303.538462  1.579932e+06  218547.692308\n",
              "NY      451.904615  1.441768e+06  325371.323077"
            ],
            "text/html": [
              "\n",
              "  <div id=\"df-b25ebb88-dc4e-4f91-8760-3fa09bbe2db4\">\n",
              "    <div class=\"colab-df-container\">\n",
              "      <div>\n",
              "<style scoped>\n",
              "    .dataframe tbody tr th:only-of-type {\n",
              "        vertical-align: middle;\n",
              "    }\n",
              "\n",
              "    .dataframe tbody tr th {\n",
              "        vertical-align: top;\n",
              "    }\n",
              "\n",
              "    .dataframe thead th {\n",
              "        text-align: right;\n",
              "    }\n",
              "</style>\n",
              "<table border=\"1\" class=\"dataframe\">\n",
              "  <thead>\n",
              "    <tr style=\"text-align: right;\">\n",
              "      <th></th>\n",
              "      <th>CAPACITY_MW</th>\n",
              "      <th>NET_GEN_MWH</th>\n",
              "      <th>CAPACITY_MWH</th>\n",
              "    </tr>\n",
              "    <tr>\n",
              "      <th>State</th>\n",
              "      <th></th>\n",
              "      <th></th>\n",
              "      <th></th>\n",
              "    </tr>\n",
              "  </thead>\n",
              "  <tbody>\n",
              "    <tr>\n",
              "      <th>CT</th>\n",
              "      <td>362.038889</td>\n",
              "      <td>1.578153e+06</td>\n",
              "      <td>260668.000000</td>\n",
              "    </tr>\n",
              "    <tr>\n",
              "      <th>MA</th>\n",
              "      <td>362.695455</td>\n",
              "      <td>1.395764e+06</td>\n",
              "      <td>261140.727273</td>\n",
              "    </tr>\n",
              "    <tr>\n",
              "      <th>ME</th>\n",
              "      <td>185.278571</td>\n",
              "      <td>5.896468e+05</td>\n",
              "      <td>133400.571429</td>\n",
              "    </tr>\n",
              "    <tr>\n",
              "      <th>NH</th>\n",
              "      <td>303.538462</td>\n",
              "      <td>1.579932e+06</td>\n",
              "      <td>218547.692308</td>\n",
              "    </tr>\n",
              "    <tr>\n",
              "      <th>NY</th>\n",
              "      <td>451.904615</td>\n",
              "      <td>1.441768e+06</td>\n",
              "      <td>325371.323077</td>\n",
              "    </tr>\n",
              "  </tbody>\n",
              "</table>\n",
              "</div>\n",
              "      <button class=\"colab-df-convert\" onclick=\"convertToInteractive('df-b25ebb88-dc4e-4f91-8760-3fa09bbe2db4')\"\n",
              "              title=\"Convert this dataframe to an interactive table.\"\n",
              "              style=\"display:none;\">\n",
              "        \n",
              "  <svg xmlns=\"http://www.w3.org/2000/svg\" height=\"24px\"viewBox=\"0 0 24 24\"\n",
              "       width=\"24px\">\n",
              "    <path d=\"M0 0h24v24H0V0z\" fill=\"none\"/>\n",
              "    <path d=\"M18.56 5.44l.94 2.06.94-2.06 2.06-.94-2.06-.94-.94-2.06-.94 2.06-2.06.94zm-11 1L8.5 8.5l.94-2.06 2.06-.94-2.06-.94L8.5 2.5l-.94 2.06-2.06.94zm10 10l.94 2.06.94-2.06 2.06-.94-2.06-.94-.94-2.06-.94 2.06-2.06.94z\"/><path d=\"M17.41 7.96l-1.37-1.37c-.4-.4-.92-.59-1.43-.59-.52 0-1.04.2-1.43.59L10.3 9.45l-7.72 7.72c-.78.78-.78 2.05 0 2.83L4 21.41c.39.39.9.59 1.41.59.51 0 1.02-.2 1.41-.59l7.78-7.78 2.81-2.81c.8-.78.8-2.07 0-2.86zM5.41 20L4 18.59l7.72-7.72 1.47 1.35L5.41 20z\"/>\n",
              "  </svg>\n",
              "      </button>\n",
              "      \n",
              "  <style>\n",
              "    .colab-df-container {\n",
              "      display:flex;\n",
              "      flex-wrap:wrap;\n",
              "      gap: 12px;\n",
              "    }\n",
              "\n",
              "    .colab-df-convert {\n",
              "      background-color: #E8F0FE;\n",
              "      border: none;\n",
              "      border-radius: 50%;\n",
              "      cursor: pointer;\n",
              "      display: none;\n",
              "      fill: #1967D2;\n",
              "      height: 32px;\n",
              "      padding: 0 0 0 0;\n",
              "      width: 32px;\n",
              "    }\n",
              "\n",
              "    .colab-df-convert:hover {\n",
              "      background-color: #E2EBFA;\n",
              "      box-shadow: 0px 1px 2px rgba(60, 64, 67, 0.3), 0px 1px 3px 1px rgba(60, 64, 67, 0.15);\n",
              "      fill: #174EA6;\n",
              "    }\n",
              "\n",
              "    [theme=dark] .colab-df-convert {\n",
              "      background-color: #3B4455;\n",
              "      fill: #D2E3FC;\n",
              "    }\n",
              "\n",
              "    [theme=dark] .colab-df-convert:hover {\n",
              "      background-color: #434B5C;\n",
              "      box-shadow: 0px 1px 3px 1px rgba(0, 0, 0, 0.15);\n",
              "      filter: drop-shadow(0px 1px 2px rgba(0, 0, 0, 0.3));\n",
              "      fill: #FFFFFF;\n",
              "    }\n",
              "  </style>\n",
              "\n",
              "      <script>\n",
              "        const buttonEl =\n",
              "          document.querySelector('#df-b25ebb88-dc4e-4f91-8760-3fa09bbe2db4 button.colab-df-convert');\n",
              "        buttonEl.style.display =\n",
              "          google.colab.kernel.accessAllowed ? 'block' : 'none';\n",
              "\n",
              "        async function convertToInteractive(key) {\n",
              "          const element = document.querySelector('#df-b25ebb88-dc4e-4f91-8760-3fa09bbe2db4');\n",
              "          const dataTable =\n",
              "            await google.colab.kernel.invokeFunction('convertToInteractive',\n",
              "                                                     [key], {});\n",
              "          if (!dataTable) return;\n",
              "\n",
              "          const docLinkHtml = 'Like what you see? Visit the ' +\n",
              "            '<a target=\"_blank\" href=https://colab.research.google.com/notebooks/data_table.ipynb>data table notebook</a>'\n",
              "            + ' to learn more about interactive tables.';\n",
              "          element.innerHTML = '';\n",
              "          dataTable['output_type'] = 'display_data';\n",
              "          await google.colab.output.renderOutput(dataTable, element);\n",
              "          const docLink = document.createElement('div');\n",
              "          docLink.innerHTML = docLinkHtml;\n",
              "          element.appendChild(docLink);\n",
              "        }\n",
              "      </script>\n",
              "    </div>\n",
              "  </div>\n",
              "  "
            ]
          },
          "metadata": {},
          "execution_count": 19
        }
      ]
    },
    {
      "cell_type": "code",
      "source": [
        "# Merge capacity data with our main dataset\n",
        "df = df.merge(plant, left_on='State', right_index=True, how='left')"
      ],
      "metadata": {
        "id": "A5WsybM4oO7G"
      },
      "execution_count": null,
      "outputs": []
    },
    {
      "cell_type": "code",
      "source": [
        "df.columns"
      ],
      "metadata": {
        "colab": {
          "base_uri": "https://localhost:8080/"
        },
        "id": "7v9DVuqWPU9l",
        "outputId": "c8cfe5fe-4d58-46fa-851d-97512f19661a"
      },
      "execution_count": null,
      "outputs": [
        {
          "output_type": "execute_result",
          "data": {
            "text/plain": [
              "Index(['Year', 'Month', 'State', 'Revenue(Thousand $)',\n",
              "       'Consumption(Megawatthours)', 'Customers(Count)', 'Price(Cents/kWh)',\n",
              "       'Precipitation', 'Temperature', 'nat_gas_to_elect_power', 'None', 'D0',\n",
              "       'D1', 'D2', 'D3', 'D4', 'PDSI', 'CAPACITY_MW', 'NET_GEN_MWH',\n",
              "       'CAPACITY_MWH'],\n",
              "      dtype='object')"
            ]
          },
          "metadata": {},
          "execution_count": 21
        }
      ]
    },
    {
      "cell_type": "code",
      "source": [
        "df.rename(columns = {'None':'Drought_index'}, inplace=True)\n",
        "df.drop(columns='nat_gas_to_elect_power', inplace=True)"
      ],
      "metadata": {
        "id": "5CrsllcrxNFq"
      },
      "execution_count": null,
      "outputs": []
    },
    {
      "cell_type": "code",
      "source": [
        "df.info()"
      ],
      "metadata": {
        "colab": {
          "base_uri": "https://localhost:8080/"
        },
        "id": "_tUuErXsPQNF",
        "outputId": "d97c0c04-ff2d-4909-8aff-15539e202f9b"
      },
      "execution_count": null,
      "outputs": [
        {
          "output_type": "stream",
          "name": "stdout",
          "text": [
            "<class 'pandas.core.frame.DataFrame'>\n",
            "RangeIndex: 842 entries, 0 to 841\n",
            "Data columns (total 19 columns):\n",
            " #   Column                      Non-Null Count  Dtype  \n",
            "---  ------                      --------------  -----  \n",
            " 0   Year                        840 non-null    float64\n",
            " 1   Month                       840 non-null    float64\n",
            " 2   State                       840 non-null    object \n",
            " 3   Revenue(Thousand $)         840 non-null    object \n",
            " 4   Consumption(Megawatthours)  840 non-null    object \n",
            " 5   Customers(Count)            840 non-null    object \n",
            " 6   Price(Cents/kWh)            840 non-null    float64\n",
            " 7   Precipitation               840 non-null    float64\n",
            " 8   Temperature                 840 non-null    float64\n",
            " 9   Drought_index               840 non-null    float64\n",
            " 10  D0                          840 non-null    float64\n",
            " 11  D1                          840 non-null    float64\n",
            " 12  D2                          840 non-null    float64\n",
            " 13  D3                          840 non-null    float64\n",
            " 14  D4                          840 non-null    float64\n",
            " 15  PDSI                        840 non-null    float64\n",
            " 16  CAPACITY_MW                 840 non-null    float64\n",
            " 17  NET_GEN_MWH                 840 non-null    float64\n",
            " 18  CAPACITY_MWH                840 non-null    float64\n",
            "dtypes: float64(15), object(4)\n",
            "memory usage: 125.1+ KB\n"
          ]
        }
      ]
    },
    {
      "cell_type": "code",
      "source": [
        "df.head()"
      ],
      "metadata": {
        "colab": {
          "base_uri": "https://localhost:8080/",
          "height": 288
        },
        "id": "55TKBuBXRDJT",
        "outputId": "ce36f456-96ac-4d09-d81d-050df616f6f2"
      },
      "execution_count": null,
      "outputs": [
        {
          "output_type": "execute_result",
          "data": {
            "text/plain": [
              "     Year  Month State Revenue(Thousand $) Consumption(Megawatthours)  \\\n",
              "0  2011.0    1.0    CT             466,863                  2,780,309   \n",
              "1  2011.0    2.0    CT             387,663                  2,390,927   \n",
              "2  2011.0    3.0    CT             398,719                  2,436,332   \n",
              "3  2011.0    4.0    CT             370,989                  2,260,627   \n",
              "4  2011.0    5.0    CT             376,033                  2,300,770   \n",
              "\n",
              "  Customers(Count)  Price(Cents/kWh)  Precipitation  Temperature  \\\n",
              "0        1,614,219             16.79           3.36         23.2   \n",
              "1        1,572,803             16.21           3.84         27.1   \n",
              "2        1,614,558             16.37           4.74         37.0   \n",
              "3        1,612,808             16.41           5.52         48.9   \n",
              "4        1,611,524             16.34           4.87         59.7   \n",
              "\n",
              "   Drought_index   D0   D1   D2   D3   D4  PDSI  CAPACITY_MW   NET_GEN_MWH  \\\n",
              "0            4.0  0.0  0.0  0.0  0.0  0.0 -0.04   362.038889  1.578153e+06   \n",
              "1            4.0  0.0  0.0  0.0  0.0  0.0  0.21   362.038889  1.578153e+06   \n",
              "2            4.0  0.0  0.0  0.0  0.0  0.0  1.04   362.038889  1.578153e+06   \n",
              "3            4.0  0.0  0.0  0.0  0.0  0.0 -0.02   362.038889  1.578153e+06   \n",
              "4            4.0  0.0  0.0  0.0  0.0  0.0  0.01   362.038889  1.578153e+06   \n",
              "\n",
              "   CAPACITY_MWH  \n",
              "0      260668.0  \n",
              "1      260668.0  \n",
              "2      260668.0  \n",
              "3      260668.0  \n",
              "4      260668.0  "
            ],
            "text/html": [
              "\n",
              "  <div id=\"df-f938a28e-5c1e-4e90-a378-8a7cc58b7b73\">\n",
              "    <div class=\"colab-df-container\">\n",
              "      <div>\n",
              "<style scoped>\n",
              "    .dataframe tbody tr th:only-of-type {\n",
              "        vertical-align: middle;\n",
              "    }\n",
              "\n",
              "    .dataframe tbody tr th {\n",
              "        vertical-align: top;\n",
              "    }\n",
              "\n",
              "    .dataframe thead th {\n",
              "        text-align: right;\n",
              "    }\n",
              "</style>\n",
              "<table border=\"1\" class=\"dataframe\">\n",
              "  <thead>\n",
              "    <tr style=\"text-align: right;\">\n",
              "      <th></th>\n",
              "      <th>Year</th>\n",
              "      <th>Month</th>\n",
              "      <th>State</th>\n",
              "      <th>Revenue(Thousand $)</th>\n",
              "      <th>Consumption(Megawatthours)</th>\n",
              "      <th>Customers(Count)</th>\n",
              "      <th>Price(Cents/kWh)</th>\n",
              "      <th>Precipitation</th>\n",
              "      <th>Temperature</th>\n",
              "      <th>Drought_index</th>\n",
              "      <th>D0</th>\n",
              "      <th>D1</th>\n",
              "      <th>D2</th>\n",
              "      <th>D3</th>\n",
              "      <th>D4</th>\n",
              "      <th>PDSI</th>\n",
              "      <th>CAPACITY_MW</th>\n",
              "      <th>NET_GEN_MWH</th>\n",
              "      <th>CAPACITY_MWH</th>\n",
              "    </tr>\n",
              "  </thead>\n",
              "  <tbody>\n",
              "    <tr>\n",
              "      <th>0</th>\n",
              "      <td>2011.0</td>\n",
              "      <td>1.0</td>\n",
              "      <td>CT</td>\n",
              "      <td>466,863</td>\n",
              "      <td>2,780,309</td>\n",
              "      <td>1,614,219</td>\n",
              "      <td>16.79</td>\n",
              "      <td>3.36</td>\n",
              "      <td>23.2</td>\n",
              "      <td>4.0</td>\n",
              "      <td>0.0</td>\n",
              "      <td>0.0</td>\n",
              "      <td>0.0</td>\n",
              "      <td>0.0</td>\n",
              "      <td>0.0</td>\n",
              "      <td>-0.04</td>\n",
              "      <td>362.038889</td>\n",
              "      <td>1.578153e+06</td>\n",
              "      <td>260668.0</td>\n",
              "    </tr>\n",
              "    <tr>\n",
              "      <th>1</th>\n",
              "      <td>2011.0</td>\n",
              "      <td>2.0</td>\n",
              "      <td>CT</td>\n",
              "      <td>387,663</td>\n",
              "      <td>2,390,927</td>\n",
              "      <td>1,572,803</td>\n",
              "      <td>16.21</td>\n",
              "      <td>3.84</td>\n",
              "      <td>27.1</td>\n",
              "      <td>4.0</td>\n",
              "      <td>0.0</td>\n",
              "      <td>0.0</td>\n",
              "      <td>0.0</td>\n",
              "      <td>0.0</td>\n",
              "      <td>0.0</td>\n",
              "      <td>0.21</td>\n",
              "      <td>362.038889</td>\n",
              "      <td>1.578153e+06</td>\n",
              "      <td>260668.0</td>\n",
              "    </tr>\n",
              "    <tr>\n",
              "      <th>2</th>\n",
              "      <td>2011.0</td>\n",
              "      <td>3.0</td>\n",
              "      <td>CT</td>\n",
              "      <td>398,719</td>\n",
              "      <td>2,436,332</td>\n",
              "      <td>1,614,558</td>\n",
              "      <td>16.37</td>\n",
              "      <td>4.74</td>\n",
              "      <td>37.0</td>\n",
              "      <td>4.0</td>\n",
              "      <td>0.0</td>\n",
              "      <td>0.0</td>\n",
              "      <td>0.0</td>\n",
              "      <td>0.0</td>\n",
              "      <td>0.0</td>\n",
              "      <td>1.04</td>\n",
              "      <td>362.038889</td>\n",
              "      <td>1.578153e+06</td>\n",
              "      <td>260668.0</td>\n",
              "    </tr>\n",
              "    <tr>\n",
              "      <th>3</th>\n",
              "      <td>2011.0</td>\n",
              "      <td>4.0</td>\n",
              "      <td>CT</td>\n",
              "      <td>370,989</td>\n",
              "      <td>2,260,627</td>\n",
              "      <td>1,612,808</td>\n",
              "      <td>16.41</td>\n",
              "      <td>5.52</td>\n",
              "      <td>48.9</td>\n",
              "      <td>4.0</td>\n",
              "      <td>0.0</td>\n",
              "      <td>0.0</td>\n",
              "      <td>0.0</td>\n",
              "      <td>0.0</td>\n",
              "      <td>0.0</td>\n",
              "      <td>-0.02</td>\n",
              "      <td>362.038889</td>\n",
              "      <td>1.578153e+06</td>\n",
              "      <td>260668.0</td>\n",
              "    </tr>\n",
              "    <tr>\n",
              "      <th>4</th>\n",
              "      <td>2011.0</td>\n",
              "      <td>5.0</td>\n",
              "      <td>CT</td>\n",
              "      <td>376,033</td>\n",
              "      <td>2,300,770</td>\n",
              "      <td>1,611,524</td>\n",
              "      <td>16.34</td>\n",
              "      <td>4.87</td>\n",
              "      <td>59.7</td>\n",
              "      <td>4.0</td>\n",
              "      <td>0.0</td>\n",
              "      <td>0.0</td>\n",
              "      <td>0.0</td>\n",
              "      <td>0.0</td>\n",
              "      <td>0.0</td>\n",
              "      <td>0.01</td>\n",
              "      <td>362.038889</td>\n",
              "      <td>1.578153e+06</td>\n",
              "      <td>260668.0</td>\n",
              "    </tr>\n",
              "  </tbody>\n",
              "</table>\n",
              "</div>\n",
              "      <button class=\"colab-df-convert\" onclick=\"convertToInteractive('df-f938a28e-5c1e-4e90-a378-8a7cc58b7b73')\"\n",
              "              title=\"Convert this dataframe to an interactive table.\"\n",
              "              style=\"display:none;\">\n",
              "        \n",
              "  <svg xmlns=\"http://www.w3.org/2000/svg\" height=\"24px\"viewBox=\"0 0 24 24\"\n",
              "       width=\"24px\">\n",
              "    <path d=\"M0 0h24v24H0V0z\" fill=\"none\"/>\n",
              "    <path d=\"M18.56 5.44l.94 2.06.94-2.06 2.06-.94-2.06-.94-.94-2.06-.94 2.06-2.06.94zm-11 1L8.5 8.5l.94-2.06 2.06-.94-2.06-.94L8.5 2.5l-.94 2.06-2.06.94zm10 10l.94 2.06.94-2.06 2.06-.94-2.06-.94-.94-2.06-.94 2.06-2.06.94z\"/><path d=\"M17.41 7.96l-1.37-1.37c-.4-.4-.92-.59-1.43-.59-.52 0-1.04.2-1.43.59L10.3 9.45l-7.72 7.72c-.78.78-.78 2.05 0 2.83L4 21.41c.39.39.9.59 1.41.59.51 0 1.02-.2 1.41-.59l7.78-7.78 2.81-2.81c.8-.78.8-2.07 0-2.86zM5.41 20L4 18.59l7.72-7.72 1.47 1.35L5.41 20z\"/>\n",
              "  </svg>\n",
              "      </button>\n",
              "      \n",
              "  <style>\n",
              "    .colab-df-container {\n",
              "      display:flex;\n",
              "      flex-wrap:wrap;\n",
              "      gap: 12px;\n",
              "    }\n",
              "\n",
              "    .colab-df-convert {\n",
              "      background-color: #E8F0FE;\n",
              "      border: none;\n",
              "      border-radius: 50%;\n",
              "      cursor: pointer;\n",
              "      display: none;\n",
              "      fill: #1967D2;\n",
              "      height: 32px;\n",
              "      padding: 0 0 0 0;\n",
              "      width: 32px;\n",
              "    }\n",
              "\n",
              "    .colab-df-convert:hover {\n",
              "      background-color: #E2EBFA;\n",
              "      box-shadow: 0px 1px 2px rgba(60, 64, 67, 0.3), 0px 1px 3px 1px rgba(60, 64, 67, 0.15);\n",
              "      fill: #174EA6;\n",
              "    }\n",
              "\n",
              "    [theme=dark] .colab-df-convert {\n",
              "      background-color: #3B4455;\n",
              "      fill: #D2E3FC;\n",
              "    }\n",
              "\n",
              "    [theme=dark] .colab-df-convert:hover {\n",
              "      background-color: #434B5C;\n",
              "      box-shadow: 0px 1px 3px 1px rgba(0, 0, 0, 0.15);\n",
              "      filter: drop-shadow(0px 1px 2px rgba(0, 0, 0, 0.3));\n",
              "      fill: #FFFFFF;\n",
              "    }\n",
              "  </style>\n",
              "\n",
              "      <script>\n",
              "        const buttonEl =\n",
              "          document.querySelector('#df-f938a28e-5c1e-4e90-a378-8a7cc58b7b73 button.colab-df-convert');\n",
              "        buttonEl.style.display =\n",
              "          google.colab.kernel.accessAllowed ? 'block' : 'none';\n",
              "\n",
              "        async function convertToInteractive(key) {\n",
              "          const element = document.querySelector('#df-f938a28e-5c1e-4e90-a378-8a7cc58b7b73');\n",
              "          const dataTable =\n",
              "            await google.colab.kernel.invokeFunction('convertToInteractive',\n",
              "                                                     [key], {});\n",
              "          if (!dataTable) return;\n",
              "\n",
              "          const docLinkHtml = 'Like what you see? Visit the ' +\n",
              "            '<a target=\"_blank\" href=https://colab.research.google.com/notebooks/data_table.ipynb>data table notebook</a>'\n",
              "            + ' to learn more about interactive tables.';\n",
              "          element.innerHTML = '';\n",
              "          dataTable['output_type'] = 'display_data';\n",
              "          await google.colab.output.renderOutput(dataTable, element);\n",
              "          const docLink = document.createElement('div');\n",
              "          docLink.innerHTML = docLinkHtml;\n",
              "          element.appendChild(docLink);\n",
              "        }\n",
              "      </script>\n",
              "    </div>\n",
              "  </div>\n",
              "  "
            ]
          },
          "metadata": {},
          "execution_count": 24
        }
      ]
    },
    {
      "cell_type": "code",
      "source": [
        "# Handle data type inconsistencies\n",
        "str_to_num_converter(df, ['Revenue(Thousand $)', 'Consumption(Megawatthours)', 'Customers(Count)'])"
      ],
      "metadata": {
        "colab": {
          "base_uri": "https://localhost:8080/"
        },
        "id": "XDBS0MSUPSqp",
        "outputId": "79f36fbe-71e4-4307-d8a6-2d9190d20e28"
      },
      "execution_count": null,
      "outputs": [
        {
          "output_type": "stream",
          "name": "stdout",
          "text": [
            "All values in Revenue(Thousand $) have been converted to numeric, exceptions are casted to NaN values.\n",
            "All values in Consumption(Megawatthours) have been converted to numeric, exceptions are casted to NaN values.\n",
            "All values in Customers(Count) have been converted to numeric, exceptions are casted to NaN values.\n"
          ]
        }
      ]
    },
    {
      "cell_type": "code",
      "source": [
        "df = df.iloc[:-2,:]"
      ],
      "metadata": {
        "id": "P3YF5MLUTBb9"
      },
      "execution_count": null,
      "outputs": []
    },
    {
      "cell_type": "code",
      "source": [
        "df.to_csv('/content/drive/Shareddrives/Capstone A1_team project/Original_features.csv')"
      ],
      "metadata": {
        "id": "_9CyOm_vUE1G"
      },
      "execution_count": null,
      "outputs": []
    },
    {
      "cell_type": "markdown",
      "source": [
        "# EDA"
      ],
      "metadata": {
        "id": "_K0pksPjxjEe"
      }
    },
    {
      "cell_type": "code",
      "source": [
        "temp = df.copy()\n",
        "col_rename = {\"Consumption(Megawatthours)\":\"Consumption(MWH)\",\n",
        "              \"Revenue(Thousand $)\":\"Revenue($K)\",\n",
        "              \"Customers(Count)\":\"# Customers\",\n",
        "              \"Drought_index\":\"DSI\",\n",
        "              \"CAPACITY_MW\":\"Capacity(MW)\",\n",
        "               \"NET_GEN_MWH\":\"Net Generation (MWH)\",\n",
        "               \"CAPACITY_MWH\":\"Capacity(MWH)\",\n",
        "               \"D0\":\"DSI - 0\",\n",
        "               \"D1\":\"DSI - 1\",\n",
        "               \"D2\":\"DSI - 2\",\n",
        "               \"D3\":\"DSI - 3\",\n",
        "               \"D4\":\"DSI - 4\"}\n",
        "temp.rename(col_rename,axis=1,inplace=True)"
      ],
      "metadata": {
        "id": "21j-GXBCYMRZ"
      },
      "execution_count": null,
      "outputs": []
    },
    {
      "cell_type": "code",
      "source": [
        "fig = sns.heatmap(temp.corr(method  =\"pearson\"),vmin=-1,vmax=1)\n",
        "plt.title(\"Correlation Heatmap\", fontsize=15)\n",
        "plt.savefig(\"/content/drive/Shareddrives/Capstone A1_team project/Figures/Correlation_Heatmap_cw.png\",bbox_inches=\"tight\")"
      ],
      "metadata": {
        "colab": {
          "base_uri": "https://localhost:8080/",
          "height": 387
        },
        "id": "cgh3wgN4xm9i",
        "outputId": "bf548455-4869-4ef9-aa4d-b9cf2c1af00e"
      },
      "execution_count": null,
      "outputs": [
        {
          "output_type": "display_data",
          "data": {
            "text/plain": [
              "<Figure size 432x288 with 2 Axes>"
            ],
            "image/png": "[encoded data removed]"
          },
          "metadata": {
            "needs_background": "light"
          }
        }
      ]
    },
    {
      "cell_type": "code",
      "source": [
        "import re\n",
        "\n",
        "def clean_string(value):\n",
        "  val = re.sub('[^0-9]','',value)\n",
        "  return val"
      ],
      "metadata": {
        "id": "KRfpxLAzYlVx"
      },
      "execution_count": null,
      "outputs": []
    },
    {
      "cell_type": "code",
      "source": [
        "# temp = df.copy()\n",
        "consumption = []\n",
        "for i in temp[\"Consumption(MWH)\"]: \n",
        "  try:\n",
        "    clean_val = clean_string(i)\n",
        "    consumption.append(clean_val)\n",
        "  except:\n",
        "    consumption.append(i)\n",
        "temp[\"consumption\"] = consumption\n",
        "#temp[\"Consumption(Megawatthours)\"].astype(int).apply(np.log)"
      ],
      "metadata": {
        "id": "k1T4XQbsXoDn"
      },
      "execution_count": null,
      "outputs": []
    },
    {
      "cell_type": "code",
      "source": [
        "temp[\"logConsumption\"] = np.log10(temp[\"consumption\"].astype(int))"
      ],
      "metadata": {
        "id": "JV1OahEFdQR0"
      },
      "execution_count": null,
      "outputs": []
    },
    {
      "cell_type": "code",
      "source": [
        "sns.boxplot(data=temp,x=\"Month\",y=\"PDSI\")\n",
        "plt.title(\"Distribution of Drought Severity by Month\", fontsize=13)\n",
        "plt.xlabel(\"Month\",fontsize=12)\n",
        "plt.ylabel(\"PDSI\",fontsize=12)\n",
        "plt.savefig(\"/content/drive/Shareddrives/Capstone A1_team project/Figures/PDSI_BoxPlot_cw.png\",bbox_inches=\"tight\")"
      ],
      "metadata": {
        "id": "Y-nS0-ypXFvq",
        "colab": {
          "base_uri": "https://localhost:8080/",
          "height": 298
        },
        "outputId": "b88f211d-561b-4b16-d43d-f95e34fa9305"
      },
      "execution_count": null,
      "outputs": [
        {
          "output_type": "display_data",
          "data": {
            "text/plain": [
              "<Figure size 432x288 with 1 Axes>"
            ],
            "image/png": "[encoded data removed]"
          },
          "metadata": {
            "needs_background": "light"
          }
        }
      ]
    },
    {
      "cell_type": "code",
      "source": [
        "# temp.loc[13,\"Month\"].astype(int).astype(str).zfill(2)\n",
        "for i in range(len(temp[\"Month\"])):\n",
        "  temp.loc[i,\"Month_Cl\"] = temp.loc[i,\"Month\"].astype(int).astype(str).zfill(2)\n",
        "for i in range(len(temp[\"Year\"])):\n",
        "  temp.loc[i,'date'] = temp.loc[i,\"Month_Cl\"] + \"-01-\" + temp.loc[i,\"Year\"].astype(int).astype(str)\n",
        "temp['date'] = pd.to_datetime(temp[\"date\"])\n",
        "temp.head()"
      ],
      "metadata": {
        "colab": {
          "base_uri": "https://localhost:8080/",
          "height": 508
        },
        "id": "FfChBXAgh940",
        "outputId": "c3395f4a-fe2c-4e3d-c0fe-bf1d9519da0a"
      },
      "execution_count": null,
      "outputs": [
        {
          "output_type": "execute_result",
          "data": {
            "text/plain": [
              "     Year  Month State  Revenue($K)  Consumption(MWH)  # Customers  \\\n",
              "0  2011.0    1.0    CT     466863.0         2780309.0    1614219.0   \n",
              "1  2011.0    2.0    CT     387663.0         2390927.0    1572803.0   \n",
              "2  2011.0    3.0    CT     398719.0         2436332.0    1614558.0   \n",
              "3  2011.0    4.0    CT     370989.0         2260627.0    1612808.0   \n",
              "4  2011.0    5.0    CT     376033.0         2300770.0    1611524.0   \n",
              "\n",
              "   Price(Cents/kWh)  Precipitation  Temperature  DSI  ...  DSI - 3  DSI - 4  \\\n",
              "0             16.79           3.36         23.2  4.0  ...      0.0      0.0   \n",
              "1             16.21           3.84         27.1  4.0  ...      0.0      0.0   \n",
              "2             16.37           4.74         37.0  4.0  ...      0.0      0.0   \n",
              "3             16.41           5.52         48.9  4.0  ...      0.0      0.0   \n",
              "4             16.34           4.87         59.7  4.0  ...      0.0      0.0   \n",
              "\n",
              "   PDSI  Capacity(MW)  Net Generation (MWH)  Capacity(MWH)  consumption  \\\n",
              "0 -0.04    362.038889          1.578153e+06       260668.0    2780309.0   \n",
              "1  0.21    362.038889          1.578153e+06       260668.0    2390927.0   \n",
              "2  1.04    362.038889          1.578153e+06       260668.0    2436332.0   \n",
              "3 -0.02    362.038889          1.578153e+06       260668.0    2260627.0   \n",
              "4  0.01    362.038889          1.578153e+06       260668.0    2300770.0   \n",
              "\n",
              "   logConsumption  Month_Cl       date  \n",
              "0        6.444093        01 2011-01-01  \n",
              "1        6.378566        02 2011-02-01  \n",
              "2        6.386736        03 2011-03-01  \n",
              "3        6.354229        04 2011-04-01  \n",
              "4        6.361873        05 2011-05-01  \n",
              "\n",
              "[5 rows x 23 columns]"
            ],
            "text/html": [
              "\n",
              "  <div id=\"df-f085dcbd-dc2c-4580-a5e5-64a3c88189c9\">\n",
              "    <div class=\"colab-df-container\">\n",
              "      <div>\n",
              "<style scoped>\n",
              "    .dataframe tbody tr th:only-of-type {\n",
              "        vertical-align: middle;\n",
              "    }\n",
              "\n",
              "    .dataframe tbody tr th {\n",
              "        vertical-align: top;\n",
              "    }\n",
              "\n",
              "    .dataframe thead th {\n",
              "        text-align: right;\n",
              "    }\n",
              "</style>\n",
              "<table border=\"1\" class=\"dataframe\">\n",
              "  <thead>\n",
              "    <tr style=\"text-align: right;\">\n",
              "      <th></th>\n",
              "      <th>Year</th>\n",
              "      <th>Month</th>\n",
              "      <th>State</th>\n",
              "      <th>Revenue($K)</th>\n",
              "      <th>Consumption(MWH)</th>\n",
              "      <th># Customers</th>\n",
              "      <th>Price(Cents/kWh)</th>\n",
              "      <th>Precipitation</th>\n",
              "      <th>Temperature</th>\n",
              "      <th>DSI</th>\n",
              "      <th>...</th>\n",
              "      <th>DSI - 3</th>\n",
              "      <th>DSI - 4</th>\n",
              "      <th>PDSI</th>\n",
              "      <th>Capacity(MW)</th>\n",
              "      <th>Net Generation (MWH)</th>\n",
              "      <th>Capacity(MWH)</th>\n",
              "      <th>consumption</th>\n",
              "      <th>logConsumption</th>\n",
              "      <th>Month_Cl</th>\n",
              "      <th>date</th>\n",
              "    </tr>\n",
              "  </thead>\n",
              "  <tbody>\n",
              "    <tr>\n",
              "      <th>0</th>\n",
              "      <td>2011.0</td>\n",
              "      <td>1.0</td>\n",
              "      <td>CT</td>\n",
              "      <td>466863.0</td>\n",
              "      <td>2780309.0</td>\n",
              "      <td>1614219.0</td>\n",
              "      <td>16.79</td>\n",
              "      <td>3.36</td>\n",
              "      <td>23.2</td>\n",
              "      <td>4.0</td>\n",
              "      <td>...</td>\n",
              "      <td>0.0</td>\n",
              "      <td>0.0</td>\n",
              "      <td>-0.04</td>\n",
              "      <td>362.038889</td>\n",
              "      <td>1.578153e+06</td>\n",
              "      <td>260668.0</td>\n",
              "      <td>2780309.0</td>\n",
              "      <td>6.444093</td>\n",
              "      <td>01</td>\n",
              "      <td>2011-01-01</td>\n",
              "    </tr>\n",
              "    <tr>\n",
              "      <th>1</th>\n",
              "      <td>2011.0</td>\n",
              "      <td>2.0</td>\n",
              "      <td>CT</td>\n",
              "      <td>387663.0</td>\n",
              "      <td>2390927.0</td>\n",
              "      <td>1572803.0</td>\n",
              "      <td>16.21</td>\n",
              "      <td>3.84</td>\n",
              "      <td>27.1</td>\n",
              "      <td>4.0</td>\n",
              "      <td>...</td>\n",
              "      <td>0.0</td>\n",
              "      <td>0.0</td>\n",
              "      <td>0.21</td>\n",
              "      <td>362.038889</td>\n",
              "      <td>1.578153e+06</td>\n",
              "      <td>260668.0</td>\n",
              "      <td>2390927.0</td>\n",
              "      <td>6.378566</td>\n",
              "      <td>02</td>\n",
              "      <td>2011-02-01</td>\n",
              "    </tr>\n",
              "    <tr>\n",
              "      <th>2</th>\n",
              "      <td>2011.0</td>\n",
              "      <td>3.0</td>\n",
              "      <td>CT</td>\n",
              "      <td>398719.0</td>\n",
              "      <td>2436332.0</td>\n",
              "      <td>1614558.0</td>\n",
              "      <td>16.37</td>\n",
              "      <td>4.74</td>\n",
              "      <td>37.0</td>\n",
              "      <td>4.0</td>\n",
              "      <td>...</td>\n",
              "      <td>0.0</td>\n",
              "      <td>0.0</td>\n",
              "      <td>1.04</td>\n",
              "      <td>362.038889</td>\n",
              "      <td>1.578153e+06</td>\n",
              "      <td>260668.0</td>\n",
              "      <td>2436332.0</td>\n",
              "      <td>6.386736</td>\n",
              "      <td>03</td>\n",
              "      <td>2011-03-01</td>\n",
              "    </tr>\n",
              "    <tr>\n",
              "      <th>3</th>\n",
              "      <td>2011.0</td>\n",
              "      <td>4.0</td>\n",
              "      <td>CT</td>\n",
              "      <td>370989.0</td>\n",
              "      <td>2260627.0</td>\n",
              "      <td>1612808.0</td>\n",
              "      <td>16.41</td>\n",
              "      <td>5.52</td>\n",
              "      <td>48.9</td>\n",
              "      <td>4.0</td>\n",
              "      <td>...</td>\n",
              "      <td>0.0</td>\n",
              "      <td>0.0</td>\n",
              "      <td>-0.02</td>\n",
              "      <td>362.038889</td>\n",
              "      <td>1.578153e+06</td>\n",
              "      <td>260668.0</td>\n",
              "      <td>2260627.0</td>\n",
              "      <td>6.354229</td>\n",
              "      <td>04</td>\n",
              "      <td>2011-04-01</td>\n",
              "    </tr>\n",
              "    <tr>\n",
              "      <th>4</th>\n",
              "      <td>2011.0</td>\n",
              "      <td>5.0</td>\n",
              "      <td>CT</td>\n",
              "      <td>376033.0</td>\n",
              "      <td>2300770.0</td>\n",
              "      <td>1611524.0</td>\n",
              "      <td>16.34</td>\n",
              "      <td>4.87</td>\n",
              "      <td>59.7</td>\n",
              "      <td>4.0</td>\n",
              "      <td>...</td>\n",
              "      <td>0.0</td>\n",
              "      <td>0.0</td>\n",
              "      <td>0.01</td>\n",
              "      <td>362.038889</td>\n",
              "      <td>1.578153e+06</td>\n",
              "      <td>260668.0</td>\n",
              "      <td>2300770.0</td>\n",
              "      <td>6.361873</td>\n",
              "      <td>05</td>\n",
              "      <td>2011-05-01</td>\n",
              "    </tr>\n",
              "  </tbody>\n",
              "</table>\n",
              "<p>5 rows × 23 columns</p>\n",
              "</div>\n",
              "      <button class=\"colab-df-convert\" onclick=\"convertToInteractive('df-f085dcbd-dc2c-4580-a5e5-64a3c88189c9')\"\n",
              "              title=\"Convert this dataframe to an interactive table.\"\n",
              "              style=\"display:none;\">\n",
              "        \n",
              "  <svg xmlns=\"http://www.w3.org/2000/svg\" height=\"24px\"viewBox=\"0 0 24 24\"\n",
              "       width=\"24px\">\n",
              "    <path d=\"M0 0h24v24H0V0z\" fill=\"none\"/>\n",
              "    <path d=\"M18.56 5.44l.94 2.06.94-2.06 2.06-.94-2.06-.94-.94-2.06-.94 2.06-2.06.94zm-11 1L8.5 8.5l.94-2.06 2.06-.94-2.06-.94L8.5 2.5l-.94 2.06-2.06.94zm10 10l.94 2.06.94-2.06 2.06-.94-2.06-.94-.94-2.06-.94 2.06-2.06.94z\"/><path d=\"M17.41 7.96l-1.37-1.37c-.4-.4-.92-.59-1.43-.59-.52 0-1.04.2-1.43.59L10.3 9.45l-7.72 7.72c-.78.78-.78 2.05 0 2.83L4 21.41c.39.39.9.59 1.41.59.51 0 1.02-.2 1.41-.59l7.78-7.78 2.81-2.81c.8-.78.8-2.07 0-2.86zM5.41 20L4 18.59l7.72-7.72 1.47 1.35L5.41 20z\"/>\n",
              "  </svg>\n",
              "      </button>\n",
              "      \n",
              "  <style>\n",
              "    .colab-df-container {\n",
              "      display:flex;\n",
              "      flex-wrap:wrap;\n",
              "      gap: 12px;\n",
              "    }\n",
              "\n",
              "    .colab-df-convert {\n",
              "      background-color: #E8F0FE;\n",
              "      border: none;\n",
              "      border-radius: 50%;\n",
              "      cursor: pointer;\n",
              "      display: none;\n",
              "      fill: #1967D2;\n",
              "      height: 32px;\n",
              "      padding: 0 0 0 0;\n",
              "      width: 32px;\n",
              "    }\n",
              "\n",
              "    .colab-df-convert:hover {\n",
              "      background-color: #E2EBFA;\n",
              "      box-shadow: 0px 1px 2px rgba(60, 64, 67, 0.3), 0px 1px 3px 1px rgba(60, 64, 67, 0.15);\n",
              "      fill: #174EA6;\n",
              "    }\n",
              "\n",
              "    [theme=dark] .colab-df-convert {\n",
              "      background-color: #3B4455;\n",
              "      fill: #D2E3FC;\n",
              "    }\n",
              "\n",
              "    [theme=dark] .colab-df-convert:hover {\n",
              "      background-color: #434B5C;\n",
              "      box-shadow: 0px 1px 3px 1px rgba(0, 0, 0, 0.15);\n",
              "      filter: drop-shadow(0px 1px 2px rgba(0, 0, 0, 0.3));\n",
              "      fill: #FFFFFF;\n",
              "    }\n",
              "  </style>\n",
              "\n",
              "      <script>\n",
              "        const buttonEl =\n",
              "          document.querySelector('#df-f085dcbd-dc2c-4580-a5e5-64a3c88189c9 button.colab-df-convert');\n",
              "        buttonEl.style.display =\n",
              "          google.colab.kernel.accessAllowed ? 'block' : 'none';\n",
              "\n",
              "        async function convertToInteractive(key) {\n",
              "          const element = document.querySelector('#df-f085dcbd-dc2c-4580-a5e5-64a3c88189c9');\n",
              "          const dataTable =\n",
              "            await google.colab.kernel.invokeFunction('convertToInteractive',\n",
              "                                                     [key], {});\n",
              "          if (!dataTable) return;\n",
              "\n",
              "          const docLinkHtml = 'Like what you see? Visit the ' +\n",
              "            '<a target=\"_blank\" href=https://colab.research.google.com/notebooks/data_table.ipynb>data table notebook</a>'\n",
              "            + ' to learn more about interactive tables.';\n",
              "          element.innerHTML = '';\n",
              "          dataTable['output_type'] = 'display_data';\n",
              "          await google.colab.output.renderOutput(dataTable, element);\n",
              "          const docLink = document.createElement('div');\n",
              "          docLink.innerHTML = docLinkHtml;\n",
              "          element.appendChild(docLink);\n",
              "        }\n",
              "      </script>\n",
              "    </div>\n",
              "  </div>\n",
              "  "
            ]
          },
          "metadata": {},
          "execution_count": 36
        }
      ]
    },
    {
      "cell_type": "code",
      "source": [
        "temp['logRevenue'] = np.log(temp['Revenue($K)'])\n",
        "temp['revenuePerCustomer'] = (temp[\"Revenue($K)\"] / temp[\"# Customers\"])*1000\n",
        "temp['consumptionPerCustomer'] = temp['Consumption(MWH)'] / temp['# Customers']\n",
        "# temp['revenue']\n",
        "months = ['January','February','March','April','May','June','July','August','September','October','November','December']\n",
        "nums = [1.0,2.0,3.0,4.0,5.0,6.0,7.0,8.0,9.0,10.0,11.0,12.0]\n",
        "\n",
        "sns.stripplot(data=temp,x=\"revenuePerCustomer\",y=\"State\",hue=\"Month\")\n",
        "plt.title(\"Average Revenue per Customer\")\n",
        "plt.xlabel(\"Monthly Revenue/Customer\")\n",
        "plt.ylabel(\"State\")\n",
        "plt.legend(title=\"Month\",bbox_to_anchor=(1.05, 1))\n",
        "plt.savefig(\"/content/drive/Shareddrives/Capstone A1_team project/Figures/RevPerCust_cw.png\",bbox_inches=\"tight\")"
      ],
      "metadata": {
        "colab": {
          "base_uri": "https://localhost:8080/",
          "height": 295
        },
        "id": "ayzXb-iPkhzc",
        "outputId": "4e41fd91-d00b-4e0a-c3a4-b4177f70a017"
      },
      "execution_count": null,
      "outputs": [
        {
          "output_type": "display_data",
          "data": {
            "text/plain": [
              "<Figure size 432x288 with 1 Axes>"
            ],
            "image/png": "[encoded data removed]"
          },
          "metadata": {
            "needs_background": "light"
          }
        }
      ]
    },
    {
      "cell_type": "code",
      "source": [
        "sns.relplot(data=temp,x=\"Temperature\",y=\"consumptionPerCustomer\",hue=\"State\", alpha=.8,height=6)\n",
        "plt.title(\"Customer Consumption Across Temperatures\")\n",
        "plt.xlabel(\"Temperature\")\n",
        "plt.ylabel(\"Average Customer Consumption\")\n",
        "plt.savefig(\"/content/drive/Shareddrives/Capstone A1_team project/Figures/ConsumptionTemps_cw.png\",bbox_inches=\"tight\")"
      ],
      "metadata": {
        "colab": {
          "base_uri": "https://localhost:8080/",
          "height": 457
        },
        "id": "Bl1tYcAcAuFK",
        "outputId": "2444a091-109e-47d6-823d-22069b7196ff"
      },
      "execution_count": null,
      "outputs": [
        {
          "output_type": "display_data",
          "data": {
            "text/plain": [
              "<Figure size 483.5x432 with 1 Axes>"
            ],
            "image/png": "[encoded data removed]"
          },
          "metadata": {
            "needs_background": "light"
          }
        }
      ]
    },
    {
      "cell_type": "code",
      "source": [
        "sns.violinplot(data=temp, x=\"PDSI\",y=\"State\")\n",
        "plt.title(\"Palmer-Drought Severity Index by State\")\n",
        "plt.savefig(\"/content/drive/Shareddrives/Capstone A1_team project/Figures/violinPDSI_cw.png\",bbox_inches=\"tight\")"
      ],
      "metadata": {
        "id": "z_BW-Z4DhlIe",
        "colab": {
          "base_uri": "https://localhost:8080/",
          "height": 295
        },
        "outputId": "54afbdbb-c5e0-4390-a3ac-8136ec9f78c4"
      },
      "execution_count": null,
      "outputs": [
        {
          "output_type": "display_data",
          "data": {
            "text/plain": [
              "<Figure size 432x288 with 1 Axes>"
            ],
            "image/png": "[encoded data removed]"
          },
          "metadata": {
            "needs_background": "light"
          }
        }
      ]
    },
    {
      "cell_type": "code",
      "source": [
        "temp2 = temp.groupby(['State',\"Month\"])[[\"Consumption(MWH)\"]].aggregate(np.mean).reset_index()\n",
        "temp2.head()"
      ],
      "metadata": {
        "colab": {
          "base_uri": "https://localhost:8080/",
          "height": 206
        },
        "id": "_8TC7-2mIAb5",
        "outputId": "b649c8b3-c37d-4a2e-a009-5fddfcf80912"
      },
      "execution_count": null,
      "outputs": [
        {
          "output_type": "execute_result",
          "data": {
            "text/plain": [
              "  State  Month  Consumption(MWH)\n",
              "0    CT    1.0         2626611.0\n",
              "1    CT    2.0         2390462.8\n",
              "2    CT    3.0         2343689.8\n",
              "3    CT    4.0         2154587.5\n",
              "4    CT    5.0         2098883.9"
            ],
            "text/html": [
              "\n",
              "  <div id=\"df-f8008fe4-24a8-40bb-a97a-77a09e42c953\">\n",
              "    <div class=\"colab-df-container\">\n",
              "      <div>\n",
              "<style scoped>\n",
              "    .dataframe tbody tr th:only-of-type {\n",
              "        vertical-align: middle;\n",
              "    }\n",
              "\n",
              "    .dataframe tbody tr th {\n",
              "        vertical-align: top;\n",
              "    }\n",
              "\n",
              "    .dataframe thead th {\n",
              "        text-align: right;\n",
              "    }\n",
              "</style>\n",
              "<table border=\"1\" class=\"dataframe\">\n",
              "  <thead>\n",
              "    <tr style=\"text-align: right;\">\n",
              "      <th></th>\n",
              "      <th>State</th>\n",
              "      <th>Month</th>\n",
              "      <th>Consumption(MWH)</th>\n",
              "    </tr>\n",
              "  </thead>\n",
              "  <tbody>\n",
              "    <tr>\n",
              "      <th>0</th>\n",
              "      <td>CT</td>\n",
              "      <td>1.0</td>\n",
              "      <td>2626611.0</td>\n",
              "    </tr>\n",
              "    <tr>\n",
              "      <th>1</th>\n",
              "      <td>CT</td>\n",
              "      <td>2.0</td>\n",
              "      <td>2390462.8</td>\n",
              "    </tr>\n",
              "    <tr>\n",
              "      <th>2</th>\n",
              "      <td>CT</td>\n",
              "      <td>3.0</td>\n",
              "      <td>2343689.8</td>\n",
              "    </tr>\n",
              "    <tr>\n",
              "      <th>3</th>\n",
              "      <td>CT</td>\n",
              "      <td>4.0</td>\n",
              "      <td>2154587.5</td>\n",
              "    </tr>\n",
              "    <tr>\n",
              "      <th>4</th>\n",
              "      <td>CT</td>\n",
              "      <td>5.0</td>\n",
              "      <td>2098883.9</td>\n",
              "    </tr>\n",
              "  </tbody>\n",
              "</table>\n",
              "</div>\n",
              "      <button class=\"colab-df-convert\" onclick=\"convertToInteractive('df-f8008fe4-24a8-40bb-a97a-77a09e42c953')\"\n",
              "              title=\"Convert this dataframe to an interactive table.\"\n",
              "              style=\"display:none;\">\n",
              "        \n",
              "  <svg xmlns=\"http://www.w3.org/2000/svg\" height=\"24px\"viewBox=\"0 0 24 24\"\n",
              "       width=\"24px\">\n",
              "    <path d=\"M0 0h24v24H0V0z\" fill=\"none\"/>\n",
              "    <path d=\"M18.56 5.44l.94 2.06.94-2.06 2.06-.94-2.06-.94-.94-2.06-.94 2.06-2.06.94zm-11 1L8.5 8.5l.94-2.06 2.06-.94-2.06-.94L8.5 2.5l-.94 2.06-2.06.94zm10 10l.94 2.06.94-2.06 2.06-.94-2.06-.94-.94-2.06-.94 2.06-2.06.94z\"/><path d=\"M17.41 7.96l-1.37-1.37c-.4-.4-.92-.59-1.43-.59-.52 0-1.04.2-1.43.59L10.3 9.45l-7.72 7.72c-.78.78-.78 2.05 0 2.83L4 21.41c.39.39.9.59 1.41.59.51 0 1.02-.2 1.41-.59l7.78-7.78 2.81-2.81c.8-.78.8-2.07 0-2.86zM5.41 20L4 18.59l7.72-7.72 1.47 1.35L5.41 20z\"/>\n",
              "  </svg>\n",
              "      </button>\n",
              "      \n",
              "  <style>\n",
              "    .colab-df-container {\n",
              "      display:flex;\n",
              "      flex-wrap:wrap;\n",
              "      gap: 12px;\n",
              "    }\n",
              "\n",
              "    .colab-df-convert {\n",
              "      background-color: #E8F0FE;\n",
              "      border: none;\n",
              "      border-radius: 50%;\n",
              "      cursor: pointer;\n",
              "      display: none;\n",
              "      fill: #1967D2;\n",
              "      height: 32px;\n",
              "      padding: 0 0 0 0;\n",
              "      width: 32px;\n",
              "    }\n",
              "\n",
              "    .colab-df-convert:hover {\n",
              "      background-color: #E2EBFA;\n",
              "      box-shadow: 0px 1px 2px rgba(60, 64, 67, 0.3), 0px 1px 3px 1px rgba(60, 64, 67, 0.15);\n",
              "      fill: #174EA6;\n",
              "    }\n",
              "\n",
              "    [theme=dark] .colab-df-convert {\n",
              "      background-color: #3B4455;\n",
              "      fill: #D2E3FC;\n",
              "    }\n",
              "\n",
              "    [theme=dark] .colab-df-convert:hover {\n",
              "      background-color: #434B5C;\n",
              "      box-shadow: 0px 1px 3px 1px rgba(0, 0, 0, 0.15);\n",
              "      filter: drop-shadow(0px 1px 2px rgba(0, 0, 0, 0.3));\n",
              "      fill: #FFFFFF;\n",
              "    }\n",
              "  </style>\n",
              "\n",
              "      <script>\n",
              "        const buttonEl =\n",
              "          document.querySelector('#df-f8008fe4-24a8-40bb-a97a-77a09e42c953 button.colab-df-convert');\n",
              "        buttonEl.style.display =\n",
              "          google.colab.kernel.accessAllowed ? 'block' : 'none';\n",
              "\n",
              "        async function convertToInteractive(key) {\n",
              "          const element = document.querySelector('#df-f8008fe4-24a8-40bb-a97a-77a09e42c953');\n",
              "          const dataTable =\n",
              "            await google.colab.kernel.invokeFunction('convertToInteractive',\n",
              "                                                     [key], {});\n",
              "          if (!dataTable) return;\n",
              "\n",
              "          const docLinkHtml = 'Like what you see? Visit the ' +\n",
              "            '<a target=\"_blank\" href=https://colab.research.google.com/notebooks/data_table.ipynb>data table notebook</a>'\n",
              "            + ' to learn more about interactive tables.';\n",
              "          element.innerHTML = '';\n",
              "          dataTable['output_type'] = 'display_data';\n",
              "          await google.colab.output.renderOutput(dataTable, element);\n",
              "          const docLink = document.createElement('div');\n",
              "          docLink.innerHTML = docLinkHtml;\n",
              "          element.appendChild(docLink);\n",
              "        }\n",
              "      </script>\n",
              "    </div>\n",
              "  </div>\n",
              "  "
            ]
          },
          "metadata": {},
          "execution_count": 32
        }
      ]
    },
    {
      "cell_type": "code",
      "source": [
        "sns.lineplot(data=temp,x=\"date\",y=\"Price(Cents/kWh)\",hue=\"State\")\n",
        "plt.title(\"Monthly Electricity Prices (cents/kWh) 2011-2021\")\n",
        "plt.xlabel(\"Date\",size=12)\n",
        "plt.ylabel(\"Price (cents/kWh)\",size=12)\n",
        "plt.legend(title=\"State\",bbox_to_anchor=(1.05, 1))\n",
        "plt.savefig(\"/content/drive/Shareddrives/Capstone A1_team project/Figures/monthlyElectricityPrices_cw.png\",bbox_inches=\"tight\")"
      ],
      "metadata": {
        "colab": {
          "base_uri": "https://localhost:8080/",
          "height": 298
        },
        "id": "DmBBCzkrSgPo",
        "outputId": "11536b50-25fa-487b-8e56-327f387a15ef"
      },
      "execution_count": null,
      "outputs": [
        {
          "output_type": "display_data",
          "data": {
            "text/plain": [
              "<Figure size 432x288 with 1 Axes>"
            ],
            "image/png": "[encoded data removed]"
          },
          "metadata": {
            "needs_background": "light"
          }
        }
      ]
    },
    {
      "cell_type": "markdown",
      "source": [
        "# Machine Learning"
      ],
      "metadata": {
        "id": "UtppxrMSxkac"
      }
    },
    {
      "cell_type": "code",
      "source": [
        "df = pd.read_csv('/content/drive/Shareddrives/Capstone A1_team project/Original_features.csv')"
      ],
      "metadata": {
        "id": "CcuSf7D2V2as"
      },
      "execution_count": null,
      "outputs": []
    },
    {
      "cell_type": "code",
      "source": [
        "df=df.iloc[:,1:]"
      ],
      "metadata": {
        "id": "eW9-HmiRWCJI"
      },
      "execution_count": null,
      "outputs": []
    },
    {
      "cell_type": "markdown",
      "source": [
        "## Feature Engineering"
      ],
      "metadata": {
        "id": "x3_bLEizxTYp"
      }
    },
    {
      "cell_type": "code",
      "source": [
        "df.columns"
      ],
      "metadata": {
        "colab": {
          "base_uri": "https://localhost:8080/"
        },
        "id": "1mLGFBEHLK_U",
        "outputId": "33d278f9-4195-4f32-a4b5-020fa0de1e18"
      },
      "execution_count": null,
      "outputs": [
        {
          "output_type": "execute_result",
          "data": {
            "text/plain": [
              "Index(['Year', 'Month', 'State', 'Revenue(Thousand $)',\n",
              "       'Consumption(Megawatthours)', 'Customers(Count)', 'Price(Cents/kWh)',\n",
              "       'Precipitation', 'Temperature', 'Drought_index', 'D0', 'D1', 'D2', 'D3',\n",
              "       'D4', 'PDSI', 'CAPACITY_MW', 'NET_GEN_MWH', 'CAPACITY_MWH'],\n",
              "      dtype='object')"
            ]
          },
          "metadata": {},
          "execution_count": 74
        }
      ]
    },
    {
      "cell_type": "code",
      "source": [
        "# Create lag temperature and lag precipitation\n",
        "df['temp_lag1'] = df['Temperature'].shift(1).fillna(df['Temperature'].mean())\n",
        "df['prec_lag1'] = df['Precipitation'].shift(1).fillna(df['Precipitation'].mean())\n",
        "\n",
        "# Create the interaction feature between temperature and precipation\n",
        "df['prec/temp'] = df['Precipitation']/df['Temperature']\n",
        "\n",
        "# Consumption per customer\n",
        "df['MWH_per_customer'] = df['Consumption(Megawatthours)']/df['Customers(Count)']\n",
        "\n",
        "# Percentage of power generated based on full capacity\n",
        "df['%Capacity_used'] = df['Consumption(Megawatthours)']/df['CAPACITY_MWH']\n",
        "\n",
        "# Full capacity hours\n",
        "df['full_cap_hours'] = df['Consumption(Megawatthours)']/df['CAPACITY_MW']"
      ],
      "metadata": {
        "id": "pF6S2MsdHg66"
      },
      "execution_count": null,
      "outputs": []
    },
    {
      "cell_type": "code",
      "source": [
        "# Define columns for more feature combination\n",
        "engineer_cols = ['MWH_per_customer', 'prec/temp', \n",
        "                 'Temperature', 'Precipitation', 'Drought_index', 'D0',\n",
        "                 'D1', 'D2','D3','D4', '%Capacity_used', 'full_cap_hours']"
      ],
      "metadata": {
        "id": "1QLM1SzfM01y"
      },
      "execution_count": null,
      "outputs": []
    },
    {
      "cell_type": "code",
      "source": [
        "from seaborn.utils import percentiles\n",
        "for i in engineer_cols:\n",
        "  for j in engineer_cols:\n",
        "    df['top25%_'+i+'_'+j] = ((df[i]>df[i].quantile(0.75)) & \n",
        "                                 (df[j]>df[j].quantile(0.75))).astype('int')"
      ],
      "metadata": {
        "colab": {
          "base_uri": "https://localhost:8080/"
        },
        "id": "QHpZpJ95Mv4E",
        "outputId": "987aeb63-b6da-4a97-b31d-d9ef78e2bfa3"
      },
      "execution_count": null,
      "outputs": [
        {
          "output_type": "stream",
          "name": "stderr",
          "text": [
            "/usr/local/lib/python3.7/dist-packages/ipykernel_launcher.py:5: PerformanceWarning: DataFrame is highly fragmented.  This is usually the result of calling `frame.insert` many times, which has poor performance.  Consider joining all columns at once using pd.concat(axis=1) instead.  To get a de-fragmented frame, use `newframe = frame.copy()`\n",
            "  \"\"\"\n"
          ]
        }
      ]
    },
    {
      "cell_type": "code",
      "source": [
        "for i in engineer_cols:\n",
        "  for j in engineer_cols:\n",
        "    df['bot25%_'+i+'_'+j] = ((df[i]<df[i].quantile(0.25)) & \n",
        "                                 (df[j]<df[j].quantile(0.25))).astype('int')"
      ],
      "metadata": {
        "colab": {
          "base_uri": "https://localhost:8080/"
        },
        "id": "MeN3yX7OMyFN",
        "outputId": "3144b74b-c30b-48e8-d9b3-9df505d2e91c"
      },
      "execution_count": null,
      "outputs": [
        {
          "output_type": "stream",
          "name": "stderr",
          "text": [
            "/usr/local/lib/python3.7/dist-packages/ipykernel_launcher.py:4: PerformanceWarning: DataFrame is highly fragmented.  This is usually the result of calling `frame.insert` many times, which has poor performance.  Consider joining all columns at once using pd.concat(axis=1) instead.  To get a de-fragmented frame, use `newframe = frame.copy()`\n",
            "  after removing the cwd from sys.path.\n"
          ]
        }
      ]
    },
    {
      "cell_type": "code",
      "source": [
        "for i in engineer_cols:\n",
        "  for j in engineer_cols:\n",
        "    df['top/bot25%_'+i+'_'+j] = ((df[i]<df[i].quantile(0.25)) & \n",
        "                                 (df[j]>df[j].quantile(0.75))).astype('int')"
      ],
      "metadata": {
        "colab": {
          "base_uri": "https://localhost:8080/"
        },
        "id": "VLxF_EbaMz4z",
        "outputId": "217c5234-5614-49ab-b71d-dfbe2da54cf8"
      },
      "execution_count": null,
      "outputs": [
        {
          "output_type": "stream",
          "name": "stderr",
          "text": [
            "/usr/local/lib/python3.7/dist-packages/ipykernel_launcher.py:4: PerformanceWarning: DataFrame is highly fragmented.  This is usually the result of calling `frame.insert` many times, which has poor performance.  Consider joining all columns at once using pd.concat(axis=1) instead.  To get a de-fragmented frame, use `newframe = frame.copy()`\n",
            "  after removing the cwd from sys.path.\n"
          ]
        }
      ]
    },
    {
      "cell_type": "code",
      "execution_count": null,
      "metadata": {
        "id": "4ib8GMO04SEH",
        "colab": {
          "base_uri": "https://localhost:8080/"
        },
        "outputId": "3610f923-50fc-49c8-eb59-6fda5520ba5c"
      },
      "outputs": [
        {
          "output_type": "stream",
          "name": "stderr",
          "text": [
            "/usr/local/lib/python3.7/dist-packages/ipykernel_launcher.py:6: PerformanceWarning: DataFrame is highly fragmented.  This is usually the result of calling `frame.insert` many times, which has poor performance.  Consider joining all columns at once using pd.concat(axis=1) instead.  To get a de-fragmented frame, use `newframe = frame.copy()`\n",
            "  \n"
          ]
        }
      ],
      "source": [
        "# Binning for yearly change on median listing days on market\n",
        "bin_label_10 = ['drought_index_10th', 'drought_index_9th', 'drought_index_8th', 'drought_index_7th',\n",
        "                'drought_index_6th','drought_index_5th','drought_index_4th', 'drought_index_3th', \n",
        "                'drought_index_2th', 'drought_index_1th']\n",
        "df['Drought_index_percentile'] = pd.qcut(df['Drought_index'],\n",
        "                              q=10, labels=bin_label_10)"
      ]
    },
    {
      "cell_type": "code",
      "source": [
        "# Conver ranks into categorical varaibles\n",
        "df = pd.get_dummies(data=df,columns=['Drought_index_percentile', 'State'])"
      ],
      "metadata": {
        "id": "0LQYoIj4XjnB"
      },
      "execution_count": null,
      "outputs": []
    },
    {
      "cell_type": "code",
      "source": [
        "df.head(5)"
      ],
      "metadata": {
        "colab": {
          "base_uri": "https://localhost:8080/",
          "height": 317
        },
        "id": "RzqT-21RYG91",
        "outputId": "238da3c2-76ad-4c78-ca33-b2747147162b"
      },
      "execution_count": null,
      "outputs": [
        {
          "output_type": "execute_result",
          "data": {
            "text/plain": [
              "     Year  Month  Revenue(Thousand $)  Consumption(Megawatthours)  \\\n",
              "0  2011.0    1.0             466863.0                   2780309.0   \n",
              "1  2011.0    2.0             387663.0                   2390927.0   \n",
              "2  2011.0    3.0             398719.0                   2436332.0   \n",
              "3  2011.0    4.0             370989.0                   2260627.0   \n",
              "4  2011.0    5.0             376033.0                   2300770.0   \n",
              "\n",
              "   Customers(Count)  Price(Cents/kWh)  Precipitation  Temperature  \\\n",
              "0         1614219.0             16.79           3.36         23.2   \n",
              "1         1572803.0             16.21           3.84         27.1   \n",
              "2         1614558.0             16.37           4.74         37.0   \n",
              "3         1612808.0             16.41           5.52         48.9   \n",
              "4         1611524.0             16.34           4.87         59.7   \n",
              "\n",
              "   Drought_index   D0  ...  Drought_index_percentile_drought_index_3th  \\\n",
              "0            4.0  0.0  ...                                           0   \n",
              "1            4.0  0.0  ...                                           0   \n",
              "2            4.0  0.0  ...                                           0   \n",
              "3            4.0  0.0  ...                                           0   \n",
              "4            4.0  0.0  ...                                           0   \n",
              "\n",
              "   Drought_index_percentile_drought_index_2th  \\\n",
              "0                                           0   \n",
              "1                                           0   \n",
              "2                                           0   \n",
              "3                                           0   \n",
              "4                                           0   \n",
              "\n",
              "   Drought_index_percentile_drought_index_1th  State_CT  State_MA  State_ME  \\\n",
              "0                                           0         1         0         0   \n",
              "1                                           0         1         0         0   \n",
              "2                                           0         1         0         0   \n",
              "3                                           0         1         0         0   \n",
              "4                                           0         1         0         0   \n",
              "\n",
              "   State_NH  State_NY  State_RI  State_VT  \n",
              "0         0         0         0         0  \n",
              "1         0         0         0         0  \n",
              "2         0         0         0         0  \n",
              "3         0         0         0         0  \n",
              "4         0         0         0         0  \n",
              "\n",
              "[5 rows x 473 columns]"
            ],
            "text/html": [
              "\n",
              "  <div id=\"df-957bc9d8-3da1-417d-80ee-45c56a9ddbc5\">\n",
              "    <div class=\"colab-df-container\">\n",
              "      <div>\n",
              "<style scoped>\n",
              "    .dataframe tbody tr th:only-of-type {\n",
              "        vertical-align: middle;\n",
              "    }\n",
              "\n",
              "    .dataframe tbody tr th {\n",
              "        vertical-align: top;\n",
              "    }\n",
              "\n",
              "    .dataframe thead th {\n",
              "        text-align: right;\n",
              "    }\n",
              "</style>\n",
              "<table border=\"1\" class=\"dataframe\">\n",
              "  <thead>\n",
              "    <tr style=\"text-align: right;\">\n",
              "      <th></th>\n",
              "      <th>Year</th>\n",
              "      <th>Month</th>\n",
              "      <th>Revenue(Thousand $)</th>\n",
              "      <th>Consumption(Megawatthours)</th>\n",
              "      <th>Customers(Count)</th>\n",
              "      <th>Price(Cents/kWh)</th>\n",
              "      <th>Precipitation</th>\n",
              "      <th>Temperature</th>\n",
              "      <th>Drought_index</th>\n",
              "      <th>D0</th>\n",
              "      <th>...</th>\n",
              "      <th>Drought_index_percentile_drought_index_3th</th>\n",
              "      <th>Drought_index_percentile_drought_index_2th</th>\n",
              "      <th>Drought_index_percentile_drought_index_1th</th>\n",
              "      <th>State_CT</th>\n",
              "      <th>State_MA</th>\n",
              "      <th>State_ME</th>\n",
              "      <th>State_NH</th>\n",
              "      <th>State_NY</th>\n",
              "      <th>State_RI</th>\n",
              "      <th>State_VT</th>\n",
              "    </tr>\n",
              "  </thead>\n",
              "  <tbody>\n",
              "    <tr>\n",
              "      <th>0</th>\n",
              "      <td>2011.0</td>\n",
              "      <td>1.0</td>\n",
              "      <td>466863.0</td>\n",
              "      <td>2780309.0</td>\n",
              "      <td>1614219.0</td>\n",
              "      <td>16.79</td>\n",
              "      <td>3.36</td>\n",
              "      <td>23.2</td>\n",
              "      <td>4.0</td>\n",
              "      <td>0.0</td>\n",
              "      <td>...</td>\n",
              "      <td>0</td>\n",
              "      <td>0</td>\n",
              "      <td>0</td>\n",
              "      <td>1</td>\n",
              "      <td>0</td>\n",
              "      <td>0</td>\n",
              "      <td>0</td>\n",
              "      <td>0</td>\n",
              "      <td>0</td>\n",
              "      <td>0</td>\n",
              "    </tr>\n",
              "    <tr>\n",
              "      <th>1</th>\n",
              "      <td>2011.0</td>\n",
              "      <td>2.0</td>\n",
              "      <td>387663.0</td>\n",
              "      <td>2390927.0</td>\n",
              "      <td>1572803.0</td>\n",
              "      <td>16.21</td>\n",
              "      <td>3.84</td>\n",
              "      <td>27.1</td>\n",
              "      <td>4.0</td>\n",
              "      <td>0.0</td>\n",
              "      <td>...</td>\n",
              "      <td>0</td>\n",
              "      <td>0</td>\n",
              "      <td>0</td>\n",
              "      <td>1</td>\n",
              "      <td>0</td>\n",
              "      <td>0</td>\n",
              "      <td>0</td>\n",
              "      <td>0</td>\n",
              "      <td>0</td>\n",
              "      <td>0</td>\n",
              "    </tr>\n",
              "    <tr>\n",
              "      <th>2</th>\n",
              "      <td>2011.0</td>\n",
              "      <td>3.0</td>\n",
              "      <td>398719.0</td>\n",
              "      <td>2436332.0</td>\n",
              "      <td>1614558.0</td>\n",
              "      <td>16.37</td>\n",
              "      <td>4.74</td>\n",
              "      <td>37.0</td>\n",
              "      <td>4.0</td>\n",
              "      <td>0.0</td>\n",
              "      <td>...</td>\n",
              "      <td>0</td>\n",
              "      <td>0</td>\n",
              "      <td>0</td>\n",
              "      <td>1</td>\n",
              "      <td>0</td>\n",
              "      <td>0</td>\n",
              "      <td>0</td>\n",
              "      <td>0</td>\n",
              "      <td>0</td>\n",
              "      <td>0</td>\n",
              "    </tr>\n",
              "    <tr>\n",
              "      <th>3</th>\n",
              "      <td>2011.0</td>\n",
              "      <td>4.0</td>\n",
              "      <td>370989.0</td>\n",
              "      <td>2260627.0</td>\n",
              "      <td>1612808.0</td>\n",
              "      <td>16.41</td>\n",
              "      <td>5.52</td>\n",
              "      <td>48.9</td>\n",
              "      <td>4.0</td>\n",
              "      <td>0.0</td>\n",
              "      <td>...</td>\n",
              "      <td>0</td>\n",
              "      <td>0</td>\n",
              "      <td>0</td>\n",
              "      <td>1</td>\n",
              "      <td>0</td>\n",
              "      <td>0</td>\n",
              "      <td>0</td>\n",
              "      <td>0</td>\n",
              "      <td>0</td>\n",
              "      <td>0</td>\n",
              "    </tr>\n",
              "    <tr>\n",
              "      <th>4</th>\n",
              "      <td>2011.0</td>\n",
              "      <td>5.0</td>\n",
              "      <td>376033.0</td>\n",
              "      <td>2300770.0</td>\n",
              "      <td>1611524.0</td>\n",
              "      <td>16.34</td>\n",
              "      <td>4.87</td>\n",
              "      <td>59.7</td>\n",
              "      <td>4.0</td>\n",
              "      <td>0.0</td>\n",
              "      <td>...</td>\n",
              "      <td>0</td>\n",
              "      <td>0</td>\n",
              "      <td>0</td>\n",
              "      <td>1</td>\n",
              "      <td>0</td>\n",
              "      <td>0</td>\n",
              "      <td>0</td>\n",
              "      <td>0</td>\n",
              "      <td>0</td>\n",
              "      <td>0</td>\n",
              "    </tr>\n",
              "  </tbody>\n",
              "</table>\n",
              "<p>5 rows × 473 columns</p>\n",
              "</div>\n",
              "      <button class=\"colab-df-convert\" onclick=\"convertToInteractive('df-957bc9d8-3da1-417d-80ee-45c56a9ddbc5')\"\n",
              "              title=\"Convert this dataframe to an interactive table.\"\n",
              "              style=\"display:none;\">\n",
              "        \n",
              "  <svg xmlns=\"http://www.w3.org/2000/svg\" height=\"24px\"viewBox=\"0 0 24 24\"\n",
              "       width=\"24px\">\n",
              "    <path d=\"M0 0h24v24H0V0z\" fill=\"none\"/>\n",
              "    <path d=\"M18.56 5.44l.94 2.06.94-2.06 2.06-.94-2.06-.94-.94-2.06-.94 2.06-2.06.94zm-11 1L8.5 8.5l.94-2.06 2.06-.94-2.06-.94L8.5 2.5l-.94 2.06-2.06.94zm10 10l.94 2.06.94-2.06 2.06-.94-2.06-.94-.94-2.06-.94 2.06-2.06.94z\"/><path d=\"M17.41 7.96l-1.37-1.37c-.4-.4-.92-.59-1.43-.59-.52 0-1.04.2-1.43.59L10.3 9.45l-7.72 7.72c-.78.78-.78 2.05 0 2.83L4 21.41c.39.39.9.59 1.41.59.51 0 1.02-.2 1.41-.59l7.78-7.78 2.81-2.81c.8-.78.8-2.07 0-2.86zM5.41 20L4 18.59l7.72-7.72 1.47 1.35L5.41 20z\"/>\n",
              "  </svg>\n",
              "      </button>\n",
              "      \n",
              "  <style>\n",
              "    .colab-df-container {\n",
              "      display:flex;\n",
              "      flex-wrap:wrap;\n",
              "      gap: 12px;\n",
              "    }\n",
              "\n",
              "    .colab-df-convert {\n",
              "      background-color: #E8F0FE;\n",
              "      border: none;\n",
              "      border-radius: 50%;\n",
              "      cursor: pointer;\n",
              "      display: none;\n",
              "      fill: #1967D2;\n",
              "      height: 32px;\n",
              "      padding: 0 0 0 0;\n",
              "      width: 32px;\n",
              "    }\n",
              "\n",
              "    .colab-df-convert:hover {\n",
              "      background-color: #E2EBFA;\n",
              "      box-shadow: 0px 1px 2px rgba(60, 64, 67, 0.3), 0px 1px 3px 1px rgba(60, 64, 67, 0.15);\n",
              "      fill: #174EA6;\n",
              "    }\n",
              "\n",
              "    [theme=dark] .colab-df-convert {\n",
              "      background-color: #3B4455;\n",
              "      fill: #D2E3FC;\n",
              "    }\n",
              "\n",
              "    [theme=dark] .colab-df-convert:hover {\n",
              "      background-color: #434B5C;\n",
              "      box-shadow: 0px 1px 3px 1px rgba(0, 0, 0, 0.15);\n",
              "      filter: drop-shadow(0px 1px 2px rgba(0, 0, 0, 0.3));\n",
              "      fill: #FFFFFF;\n",
              "    }\n",
              "  </style>\n",
              "\n",
              "      <script>\n",
              "        const buttonEl =\n",
              "          document.querySelector('#df-957bc9d8-3da1-417d-80ee-45c56a9ddbc5 button.colab-df-convert');\n",
              "        buttonEl.style.display =\n",
              "          google.colab.kernel.accessAllowed ? 'block' : 'none';\n",
              "\n",
              "        async function convertToInteractive(key) {\n",
              "          const element = document.querySelector('#df-957bc9d8-3da1-417d-80ee-45c56a9ddbc5');\n",
              "          const dataTable =\n",
              "            await google.colab.kernel.invokeFunction('convertToInteractive',\n",
              "                                                     [key], {});\n",
              "          if (!dataTable) return;\n",
              "\n",
              "          const docLinkHtml = 'Like what you see? Visit the ' +\n",
              "            '<a target=\"_blank\" href=https://colab.research.google.com/notebooks/data_table.ipynb>data table notebook</a>'\n",
              "            + ' to learn more about interactive tables.';\n",
              "          element.innerHTML = '';\n",
              "          dataTable['output_type'] = 'display_data';\n",
              "          await google.colab.output.renderOutput(dataTable, element);\n",
              "          const docLink = document.createElement('div');\n",
              "          docLink.innerHTML = docLinkHtml;\n",
              "          element.appendChild(docLink);\n",
              "        }\n",
              "      </script>\n",
              "    </div>\n",
              "  </div>\n",
              "  "
            ]
          },
          "metadata": {},
          "execution_count": 82
        }
      ]
    },
    {
      "cell_type": "code",
      "source": [
        "# Keep a copy of this dataset\n",
        "df.to_csv('/content/drive/Shareddrives/Capstone A1_team project/Final deliverable folder/final_04_29.csv')"
      ],
      "metadata": {
        "id": "dHRpMSdKpS1X"
      },
      "execution_count": null,
      "outputs": []
    },
    {
      "cell_type": "code",
      "source": [
        "df = pd.read_csv('/content/drive/Shareddrives/Capstone A1_team project/Final deliverable folder/final_04_23.csv')"
      ],
      "metadata": {
        "id": "PsOkKf3SW2ON"
      },
      "execution_count": null,
      "outputs": []
    },
    {
      "cell_type": "markdown",
      "source": [
        "## Predict electricity price (cents/kWh)"
      ],
      "metadata": {
        "id": "wv9P1-5CYLpe"
      }
    },
    {
      "cell_type": "code",
      "source": [
        "df.describe().T"
      ],
      "metadata": {
        "id": "hlSmcMXaYKNN",
        "colab": {
          "base_uri": "https://localhost:8080/",
          "height": 423
        },
        "outputId": "c5196c37-0505-447d-da37-ec48adefe4b5"
      },
      "execution_count": null,
      "outputs": [
        {
          "output_type": "execute_result",
          "data": {
            "text/plain": [
              "                            count          mean           std       min  \\\n",
              "Year                        840.0  2.015500e+03  2.873993e+00    2011.0   \n",
              "Month                       840.0  6.500000e+00  3.454109e+00       1.0   \n",
              "Revenue(Thousand $)         840.0  4.886136e+05  6.053030e+05   57778.0   \n",
              "Consumption(Megawatthours)  840.0  3.144384e+06  3.944949e+06  392218.0   \n",
              "Customers(Count)            840.0  2.198860e+06  2.607669e+06  358380.0   \n",
              "...                           ...           ...           ...       ...   \n",
              "State_NH                    840.0  1.428571e-01  3.501356e-01       0.0   \n",
              "State_NY                    840.0  1.428571e-01  3.501356e-01       0.0   \n",
              "State_RI                    840.0  1.428571e-01  3.501356e-01       0.0   \n",
              "State_VT                    840.0  1.428571e-01  3.501356e-01       0.0   \n",
              "rev_lag1                    840.0  4.891008e+05  6.051379e+05   57778.0   \n",
              "\n",
              "                                  25%        50%         75%         max  \n",
              "Year                          2013.00     2015.5     2018.00      2020.0  \n",
              "Month                            3.75        6.5        9.25        12.0  \n",
              "Revenue(Thousand $)         107878.25   144102.5   658823.75   2484196.0  \n",
              "Consumption(Megawatthours)  654424.75  1004174.5  4116004.00  15262546.0  \n",
              "Customers(Count)            503847.50   801871.0  3119911.75   8403778.0  \n",
              "...                               ...        ...         ...         ...  \n",
              "State_NH                         0.00        0.0        0.00         1.0  \n",
              "State_NY                         0.00        0.0        0.00         1.0  \n",
              "State_RI                         0.00        0.0        0.00         1.0  \n",
              "State_VT                         0.00        0.0        0.00         1.0  \n",
              "rev_lag1                    107948.75   144409.0   658823.75   2484196.0  \n",
              "\n",
              "[474 rows x 8 columns]"
            ],
            "text/html": [
              "\n",
              "  <div id=\"df-431b60e6-7946-4e8f-a1e2-e3b10104a9d5\">\n",
              "    <div class=\"colab-df-container\">\n",
              "      <div>\n",
              "<style scoped>\n",
              "    .dataframe tbody tr th:only-of-type {\n",
              "        vertical-align: middle;\n",
              "    }\n",
              "\n",
              "    .dataframe tbody tr th {\n",
              "        vertical-align: top;\n",
              "    }\n",
              "\n",
              "    .dataframe thead th {\n",
              "        text-align: right;\n",
              "    }\n",
              "</style>\n",
              "<table border=\"1\" class=\"dataframe\">\n",
              "  <thead>\n",
              "    <tr style=\"text-align: right;\">\n",
              "      <th></th>\n",
              "      <th>count</th>\n",
              "      <th>mean</th>\n",
              "      <th>std</th>\n",
              "      <th>min</th>\n",
              "      <th>25%</th>\n",
              "      <th>50%</th>\n",
              "      <th>75%</th>\n",
              "      <th>max</th>\n",
              "    </tr>\n",
              "  </thead>\n",
              "  <tbody>\n",
              "    <tr>\n",
              "      <th>Year</th>\n",
              "      <td>840.0</td>\n",
              "      <td>2.015500e+03</td>\n",
              "      <td>2.873993e+00</td>\n",
              "      <td>2011.0</td>\n",
              "      <td>2013.00</td>\n",
              "      <td>2015.5</td>\n",
              "      <td>2018.00</td>\n",
              "      <td>2020.0</td>\n",
              "    </tr>\n",
              "    <tr>\n",
              "      <th>Month</th>\n",
              "      <td>840.0</td>\n",
              "      <td>6.500000e+00</td>\n",
              "      <td>3.454109e+00</td>\n",
              "      <td>1.0</td>\n",
              "      <td>3.75</td>\n",
              "      <td>6.5</td>\n",
              "      <td>9.25</td>\n",
              "      <td>12.0</td>\n",
              "    </tr>\n",
              "    <tr>\n",
              "      <th>Revenue(Thousand $)</th>\n",
              "      <td>840.0</td>\n",
              "      <td>4.886136e+05</td>\n",
              "      <td>6.053030e+05</td>\n",
              "      <td>57778.0</td>\n",
              "      <td>107878.25</td>\n",
              "      <td>144102.5</td>\n",
              "      <td>658823.75</td>\n",
              "      <td>2484196.0</td>\n",
              "    </tr>\n",
              "    <tr>\n",
              "      <th>Consumption(Megawatthours)</th>\n",
              "      <td>840.0</td>\n",
              "      <td>3.144384e+06</td>\n",
              "      <td>3.944949e+06</td>\n",
              "      <td>392218.0</td>\n",
              "      <td>654424.75</td>\n",
              "      <td>1004174.5</td>\n",
              "      <td>4116004.00</td>\n",
              "      <td>15262546.0</td>\n",
              "    </tr>\n",
              "    <tr>\n",
              "      <th>Customers(Count)</th>\n",
              "      <td>840.0</td>\n",
              "      <td>2.198860e+06</td>\n",
              "      <td>2.607669e+06</td>\n",
              "      <td>358380.0</td>\n",
              "      <td>503847.50</td>\n",
              "      <td>801871.0</td>\n",
              "      <td>3119911.75</td>\n",
              "      <td>8403778.0</td>\n",
              "    </tr>\n",
              "    <tr>\n",
              "      <th>...</th>\n",
              "      <td>...</td>\n",
              "      <td>...</td>\n",
              "      <td>...</td>\n",
              "      <td>...</td>\n",
              "      <td>...</td>\n",
              "      <td>...</td>\n",
              "      <td>...</td>\n",
              "      <td>...</td>\n",
              "    </tr>\n",
              "    <tr>\n",
              "      <th>State_NH</th>\n",
              "      <td>840.0</td>\n",
              "      <td>1.428571e-01</td>\n",
              "      <td>3.501356e-01</td>\n",
              "      <td>0.0</td>\n",
              "      <td>0.00</td>\n",
              "      <td>0.0</td>\n",
              "      <td>0.00</td>\n",
              "      <td>1.0</td>\n",
              "    </tr>\n",
              "    <tr>\n",
              "      <th>State_NY</th>\n",
              "      <td>840.0</td>\n",
              "      <td>1.428571e-01</td>\n",
              "      <td>3.501356e-01</td>\n",
              "      <td>0.0</td>\n",
              "      <td>0.00</td>\n",
              "      <td>0.0</td>\n",
              "      <td>0.00</td>\n",
              "      <td>1.0</td>\n",
              "    </tr>\n",
              "    <tr>\n",
              "      <th>State_RI</th>\n",
              "      <td>840.0</td>\n",
              "      <td>1.428571e-01</td>\n",
              "      <td>3.501356e-01</td>\n",
              "      <td>0.0</td>\n",
              "      <td>0.00</td>\n",
              "      <td>0.0</td>\n",
              "      <td>0.00</td>\n",
              "      <td>1.0</td>\n",
              "    </tr>\n",
              "    <tr>\n",
              "      <th>State_VT</th>\n",
              "      <td>840.0</td>\n",
              "      <td>1.428571e-01</td>\n",
              "      <td>3.501356e-01</td>\n",
              "      <td>0.0</td>\n",
              "      <td>0.00</td>\n",
              "      <td>0.0</td>\n",
              "      <td>0.00</td>\n",
              "      <td>1.0</td>\n",
              "    </tr>\n",
              "    <tr>\n",
              "      <th>rev_lag1</th>\n",
              "      <td>840.0</td>\n",
              "      <td>4.891008e+05</td>\n",
              "      <td>6.051379e+05</td>\n",
              "      <td>57778.0</td>\n",
              "      <td>107948.75</td>\n",
              "      <td>144409.0</td>\n",
              "      <td>658823.75</td>\n",
              "      <td>2484196.0</td>\n",
              "    </tr>\n",
              "  </tbody>\n",
              "</table>\n",
              "<p>474 rows × 8 columns</p>\n",
              "</div>\n",
              "      <button class=\"colab-df-convert\" onclick=\"convertToInteractive('df-431b60e6-7946-4e8f-a1e2-e3b10104a9d5')\"\n",
              "              title=\"Convert this dataframe to an interactive table.\"\n",
              "              style=\"display:none;\">\n",
              "        \n",
              "  <svg xmlns=\"http://www.w3.org/2000/svg\" height=\"24px\"viewBox=\"0 0 24 24\"\n",
              "       width=\"24px\">\n",
              "    <path d=\"M0 0h24v24H0V0z\" fill=\"none\"/>\n",
              "    <path d=\"M18.56 5.44l.94 2.06.94-2.06 2.06-.94-2.06-.94-.94-2.06-.94 2.06-2.06.94zm-11 1L8.5 8.5l.94-2.06 2.06-.94-2.06-.94L8.5 2.5l-.94 2.06-2.06.94zm10 10l.94 2.06.94-2.06 2.06-.94-2.06-.94-.94-2.06-.94 2.06-2.06.94z\"/><path d=\"M17.41 7.96l-1.37-1.37c-.4-.4-.92-.59-1.43-.59-.52 0-1.04.2-1.43.59L10.3 9.45l-7.72 7.72c-.78.78-.78 2.05 0 2.83L4 21.41c.39.39.9.59 1.41.59.51 0 1.02-.2 1.41-.59l7.78-7.78 2.81-2.81c.8-.78.8-2.07 0-2.86zM5.41 20L4 18.59l7.72-7.72 1.47 1.35L5.41 20z\"/>\n",
              "  </svg>\n",
              "      </button>\n",
              "      \n",
              "  <style>\n",
              "    .colab-df-container {\n",
              "      display:flex;\n",
              "      flex-wrap:wrap;\n",
              "      gap: 12px;\n",
              "    }\n",
              "\n",
              "    .colab-df-convert {\n",
              "      background-color: #E8F0FE;\n",
              "      border: none;\n",
              "      border-radius: 50%;\n",
              "      cursor: pointer;\n",
              "      display: none;\n",
              "      fill: #1967D2;\n",
              "      height: 32px;\n",
              "      padding: 0 0 0 0;\n",
              "      width: 32px;\n",
              "    }\n",
              "\n",
              "    .colab-df-convert:hover {\n",
              "      background-color: #E2EBFA;\n",
              "      box-shadow: 0px 1px 2px rgba(60, 64, 67, 0.3), 0px 1px 3px 1px rgba(60, 64, 67, 0.15);\n",
              "      fill: #174EA6;\n",
              "    }\n",
              "\n",
              "    [theme=dark] .colab-df-convert {\n",
              "      background-color: #3B4455;\n",
              "      fill: #D2E3FC;\n",
              "    }\n",
              "\n",
              "    [theme=dark] .colab-df-convert:hover {\n",
              "      background-color: #434B5C;\n",
              "      box-shadow: 0px 1px 3px 1px rgba(0, 0, 0, 0.15);\n",
              "      filter: drop-shadow(0px 1px 2px rgba(0, 0, 0, 0.3));\n",
              "      fill: #FFFFFF;\n",
              "    }\n",
              "  </style>\n",
              "\n",
              "      <script>\n",
              "        const buttonEl =\n",
              "          document.querySelector('#df-431b60e6-7946-4e8f-a1e2-e3b10104a9d5 button.colab-df-convert');\n",
              "        buttonEl.style.display =\n",
              "          google.colab.kernel.accessAllowed ? 'block' : 'none';\n",
              "\n",
              "        async function convertToInteractive(key) {\n",
              "          const element = document.querySelector('#df-431b60e6-7946-4e8f-a1e2-e3b10104a9d5');\n",
              "          const dataTable =\n",
              "            await google.colab.kernel.invokeFunction('convertToInteractive',\n",
              "                                                     [key], {});\n",
              "          if (!dataTable) return;\n",
              "\n",
              "          const docLinkHtml = 'Like what you see? Visit the ' +\n",
              "            '<a target=\"_blank\" href=https://colab.research.google.com/notebooks/data_table.ipynb>data table notebook</a>'\n",
              "            + ' to learn more about interactive tables.';\n",
              "          element.innerHTML = '';\n",
              "          dataTable['output_type'] = 'display_data';\n",
              "          await google.colab.output.renderOutput(dataTable, element);\n",
              "          const docLink = document.createElement('div');\n",
              "          docLink.innerHTML = docLinkHtml;\n",
              "          element.appendChild(docLink);\n",
              "        }\n",
              "      </script>\n",
              "    </div>\n",
              "  </div>\n",
              "  "
            ]
          },
          "metadata": {},
          "execution_count": 54
        }
      ]
    },
    {
      "cell_type": "code",
      "source": [
        "# Define our targeting feature and training space\n",
        "df=df.fillna(df.mean())\n",
        "X = df.iloc[:,8:]\n",
        "y = df['Price(Cents/kWh)']"
      ],
      "metadata": {
        "id": "ZxHKipIUYrRI"
      },
      "execution_count": null,
      "outputs": []
    },
    {
      "cell_type": "code",
      "source": [
        "# Normalize data\n",
        "from sklearn.preprocessing import StandardScaler\n",
        "scaler = StandardScaler()\n",
        "scaled_features = scaler.fit_transform(X)\n",
        "scaled_X = pd.DataFrame(scaled_features, index=X.index, columns=X.columns)"
      ],
      "metadata": {
        "id": "g0L8bGC-Y820"
      },
      "execution_count": null,
      "outputs": []
    },
    {
      "cell_type": "code",
      "source": [
        "# Split training and testing samples\n",
        "from sklearn.model_selection import train_test_split\n",
        "X_train, X_test, y_train, y_test = train_test_split(scaled_X, y, test_size=0.2, random_state=727)"
      ],
      "metadata": {
        "id": "lvxyfE1kZFI6"
      },
      "execution_count": null,
      "outputs": []
    },
    {
      "cell_type": "markdown",
      "metadata": {
        "id": "86yx77obHn3b"
      },
      "source": [
        "### Linear Regression"
      ]
    },
    {
      "cell_type": "code",
      "execution_count": null,
      "metadata": {
        "id": "kPK3u8mN_xST"
      },
      "outputs": [],
      "source": [
        "from sklearn.linear_model import LinearRegression\n",
        "#Creating model \n",
        "linear = LinearRegression()\n",
        "linear.fit(X_train, y_train)\n",
        "\n",
        "y_pred_linear = linear.predict(X_test)"
      ]
    },
    {
      "cell_type": "code",
      "execution_count": null,
      "metadata": {
        "colab": {
          "base_uri": "https://localhost:8080/"
        },
        "id": "_ko3T6PmAJ7P",
        "outputId": "047c1a47-00c4-47c2-8e7c-96e75416e923"
      },
      "outputs": [
        {
          "output_type": "stream",
          "name": "stdout",
          "text": [
            "Mean Absolute Error: 1.0908648066618005\n",
            "Mean Squared Error: 1.8814256086693417\n",
            "Root Mean Squared Error: 1.371650687554722\n",
            "Explained Variance Score: 48.51958407994146\n"
          ]
        }
      ],
      "source": [
        "from sklearn import metrics\n",
        "\n",
        "print('Mean Absolute Error:', metrics.mean_absolute_error(y_test, y_pred_linear))\n",
        "print('Mean Squared Error:', metrics.mean_squared_error(y_test, y_pred_linear))\n",
        "print('Root Mean Squared Error:', np.sqrt(metrics.mean_squared_error(y_test, y_pred_linear)))\n",
        "print('Explained Variance Score:',metrics.explained_variance_score(y_test, y_pred_linear)*100)"
      ]
    },
    {
      "cell_type": "markdown",
      "metadata": {
        "id": "QtHhCFgM4f58"
      },
      "source": [
        "### Lasso Regression"
      ]
    },
    {
      "cell_type": "code",
      "execution_count": null,
      "metadata": {
        "id": "cN72T4Oc4f58"
      },
      "outputs": [],
      "source": [
        "from sklearn.linear_model import Lasso\n",
        "lasso = Lasso()\n",
        "lasso.fit(X_train, y_train)\n",
        "y_pred_lasso = lasso.predict(X_test)"
      ]
    },
    {
      "cell_type": "code",
      "execution_count": null,
      "metadata": {
        "colab": {
          "base_uri": "https://localhost:8080/"
        },
        "id": "1e4ZbKoK4f58",
        "outputId": "456a1259-2bc4-4099-d692-5185a05f8b7d"
      },
      "outputs": [
        {
          "output_type": "stream",
          "name": "stdout",
          "text": [
            "Mean Absolute Error: 1.5912043458891978\n",
            "Mean Squared Error: 3.59794754837173\n",
            "Root Mean Squared Error: 1.8968256504939325\n",
            "Explained Variance Score: 3.199518701439974\n"
          ]
        }
      ],
      "source": [
        "print('Mean Absolute Error:', metrics.mean_absolute_error(y_test, y_pred_lasso))\n",
        "print('Mean Squared Error:', metrics.mean_squared_error(y_test, y_pred_lasso))\n",
        "print('Root Mean Squared Error:', np.sqrt(metrics.mean_squared_error(y_test, y_pred_lasso)))\n",
        "print('Explained Variance Score:', metrics.explained_variance_score(y_test, y_pred_lasso)*100)"
      ]
    },
    {
      "cell_type": "code",
      "execution_count": null,
      "metadata": {
        "id": "UYIbjMmD4f58",
        "colab": {
          "base_uri": "https://localhost:8080/"
        },
        "outputId": "923289cb-bf28-45c9-a4f4-8016fdae98a0"
      },
      "outputs": [
        {
          "output_type": "stream",
          "name": "stderr",
          "text": [
            "/usr/local/lib/python3.7/dist-packages/sklearn/linear_model/_coordinate_descent.py:648: ConvergenceWarning: Objective did not converge. You might want to increase the number of iterations, check the scale of the features or consider increasing regularisation. Duality gap: 2.411e+02, tolerance: 1.968e-01\n",
            "  coef_, l1_reg, l2_reg, X, y, max_iter, tol, rng, random, positive\n",
            "/usr/local/lib/python3.7/dist-packages/sklearn/linear_model/_coordinate_descent.py:648: ConvergenceWarning: Objective did not converge. You might want to increase the number of iterations, check the scale of the features or consider increasing regularisation. Duality gap: 2.452e+02, tolerance: 1.977e-01\n",
            "  coef_, l1_reg, l2_reg, X, y, max_iter, tol, rng, random, positive\n",
            "/usr/local/lib/python3.7/dist-packages/sklearn/linear_model/_coordinate_descent.py:648: ConvergenceWarning: Objective did not converge. You might want to increase the number of iterations, check the scale of the features or consider increasing regularisation. Duality gap: 2.520e+02, tolerance: 2.032e-01\n",
            "  coef_, l1_reg, l2_reg, X, y, max_iter, tol, rng, random, positive\n",
            "/usr/local/lib/python3.7/dist-packages/sklearn/linear_model/_coordinate_descent.py:648: ConvergenceWarning: Objective did not converge. You might want to increase the number of iterations, check the scale of the features or consider increasing regularisation. Duality gap: 2.128e+02, tolerance: 1.917e-01\n",
            "  coef_, l1_reg, l2_reg, X, y, max_iter, tol, rng, random, positive\n",
            "/usr/local/lib/python3.7/dist-packages/sklearn/linear_model/_coordinate_descent.py:648: ConvergenceWarning: Objective did not converge. You might want to increase the number of iterations, check the scale of the features or consider increasing regularisation. Duality gap: 2.480e+02, tolerance: 2.002e-01\n",
            "  coef_, l1_reg, l2_reg, X, y, max_iter, tol, rng, random, positive\n",
            "/usr/local/lib/python3.7/dist-packages/sklearn/linear_model/_coordinate_descent.py:648: ConvergenceWarning: Objective did not converge. You might want to increase the number of iterations, check the scale of the features or consider increasing regularisation. Duality gap: 4.274e+00, tolerance: 1.968e-01\n",
            "  coef_, l1_reg, l2_reg, X, y, max_iter, tol, rng, random, positive\n",
            "/usr/local/lib/python3.7/dist-packages/sklearn/linear_model/_coordinate_descent.py:648: ConvergenceWarning: Objective did not converge. You might want to increase the number of iterations, check the scale of the features or consider increasing regularisation. Duality gap: 4.879e+01, tolerance: 1.977e-01\n",
            "  coef_, l1_reg, l2_reg, X, y, max_iter, tol, rng, random, positive\n",
            "/usr/local/lib/python3.7/dist-packages/sklearn/linear_model/_coordinate_descent.py:648: ConvergenceWarning: Objective did not converge. You might want to increase the number of iterations, check the scale of the features or consider increasing regularisation. Duality gap: 3.625e+01, tolerance: 2.032e-01\n",
            "  coef_, l1_reg, l2_reg, X, y, max_iter, tol, rng, random, positive\n",
            "/usr/local/lib/python3.7/dist-packages/sklearn/linear_model/_coordinate_descent.py:648: ConvergenceWarning: Objective did not converge. You might want to increase the number of iterations, check the scale of the features or consider increasing regularisation. Duality gap: 2.823e+01, tolerance: 1.917e-01\n",
            "  coef_, l1_reg, l2_reg, X, y, max_iter, tol, rng, random, positive\n",
            "/usr/local/lib/python3.7/dist-packages/sklearn/linear_model/_coordinate_descent.py:648: ConvergenceWarning: Objective did not converge. You might want to increase the number of iterations, check the scale of the features or consider increasing regularisation. Duality gap: 4.348e+01, tolerance: 2.002e-01\n",
            "  coef_, l1_reg, l2_reg, X, y, max_iter, tol, rng, random, positive\n"
          ]
        },
        {
          "output_type": "execute_result",
          "data": {
            "text/plain": [
              "GridSearchCV(cv=5, estimator=Lasso(),\n",
              "             param_grid={'alpha': array([0.0001, 0.001 , 0.01  , 0.1   ])})"
            ]
          },
          "metadata": {},
          "execution_count": 98
        }
      ],
      "source": [
        "# Hyperparameters tuning\n",
        "from sklearn.model_selection import GridSearchCV\n",
        "params_lasso = {'alpha': (np.logspace(-4, -1, 4))} # It will check from 1e-08 to 1e+08\n",
        "lasso_cv = GridSearchCV(lasso, params_lasso, cv = 5)\n",
        "lasso_cv.fit(X_train, y_train)"
      ]
    },
    {
      "cell_type": "code",
      "execution_count": null,
      "metadata": {
        "colab": {
          "base_uri": "https://localhost:8080/"
        },
        "id": "TgRMgKKN4f58",
        "outputId": "83eea5fc-b261-4e6e-d72f-62c4083b8d71"
      },
      "outputs": [
        {
          "output_type": "stream",
          "name": "stdout",
          "text": [
            "Lasso(alpha=0.01)\n"
          ]
        }
      ],
      "source": [
        "print(lasso_cv.best_estimator_)"
      ]
    },
    {
      "cell_type": "code",
      "execution_count": null,
      "metadata": {
        "colab": {
          "base_uri": "https://localhost:8080/"
        },
        "id": "gaXY2OMV4f59",
        "outputId": "62d45b84-296e-460c-fc6b-82cd9631ae85"
      },
      "outputs": [
        {
          "output_type": "stream",
          "name": "stdout",
          "text": [
            "Mean Absolute Error: 1.1067342777406122\n",
            "Mean Squared Error: 1.9565010165129213\n",
            "Root Mean Squared Error: 1.3987498048303426\n",
            "Explained Variance Score: 46.67740706164412\n"
          ]
        }
      ],
      "source": [
        "lasso_2 = Lasso(alpha=0.01)\n",
        "lasso_2.fit(X_train, y_train)\n",
        "y_pred_lasso2 = lasso_2.predict(X_test)\n",
        "print('Mean Absolute Error:', metrics.mean_absolute_error(y_test, y_pred_lasso2))\n",
        "print('Mean Squared Error:', metrics.mean_squared_error(y_test, y_pred_lasso2))\n",
        "print('Root Mean Squared Error:', np.sqrt(metrics.mean_squared_error(y_test, y_pred_lasso2)))\n",
        "print('Explained Variance Score:', metrics.explained_variance_score(y_test, y_pred_lasso2)*100)"
      ]
    },
    {
      "cell_type": "markdown",
      "source": [
        "### Decision Tree Regressor"
      ],
      "metadata": {
        "id": "xP3AuvsZM6IY"
      }
    },
    {
      "cell_type": "code",
      "source": [
        "from sklearn.tree import DecisionTreeRegressor\n",
        "dt = DecisionTreeRegressor()\n",
        "dt.fit(X_train, y_train )\n",
        "y_pred_dt = np.round(dt.predict(X_test))"
      ],
      "metadata": {
        "id": "QHB-WtRFM89c"
      },
      "execution_count": null,
      "outputs": []
    },
    {
      "cell_type": "code",
      "source": [
        "# Check model performance\n",
        "print('Mean Absolute Error:', metrics.mean_absolute_error(y_test, y_pred_dt))\n",
        "print('Mean Squared Error:', metrics.mean_squared_error(y_test, y_pred_dt))\n",
        "print('Root Mean Squared Error:', np.sqrt(metrics.mean_squared_error(y_test, y_pred_dt)))\n",
        "print('Explained Variance Score:',metrics.explained_variance_score(y_test, y_pred_dt)*100)"
      ],
      "metadata": {
        "colab": {
          "base_uri": "https://localhost:8080/"
        },
        "id": "gf594r36M9Es",
        "outputId": "404fe6d0-2549-4ac9-e074-9bfa226778c6"
      },
      "execution_count": null,
      "outputs": [
        {
          "output_type": "stream",
          "name": "stdout",
          "text": [
            "Mean Absolute Error: 1.239464285714286\n",
            "Mean Squared Error: 3.02538869047619\n",
            "Root Mean Squared Error: 1.73936445015879\n",
            "Explained Variance Score: 18.38500498057836\n"
          ]
        }
      ]
    },
    {
      "cell_type": "markdown",
      "metadata": {
        "id": "4VAlgE5NHkjN"
      },
      "source": [
        "### Random Forest Regressor"
      ]
    },
    {
      "cell_type": "code",
      "execution_count": null,
      "metadata": {
        "id": "_DPn6TQe27Az"
      },
      "outputs": [],
      "source": [
        "# Fit random forest model\n",
        "from sklearn.ensemble import RandomForestRegressor\n",
        "rf = RandomForestRegressor()\n",
        "rf.fit(X_train, y_train)\n",
        "\n",
        "y_pred_rf = np.round(rf.predict(X_test))"
      ]
    },
    {
      "cell_type": "code",
      "source": [
        "# Check model performance\n",
        "print('Mean Absolute Error:', metrics.mean_absolute_error(y_test, y_pred_rf))\n",
        "print('Mean Squared Error:', metrics.mean_squared_error(y_test, y_pred_rf))\n",
        "print('Root Mean Squared Error:', np.sqrt(metrics.mean_squared_error(y_test, y_pred_rf)))\n",
        "print('Explained Variance Score:',metrics.explained_variance_score(y_test, y_pred_rf)*100)"
      ],
      "metadata": {
        "colab": {
          "base_uri": "https://localhost:8080/"
        },
        "id": "07K7JyqSn2Ax",
        "outputId": "9299f22f-9e19-4eb4-dc94-4b775cd156a7"
      },
      "execution_count": null,
      "outputs": [
        {
          "output_type": "stream",
          "name": "stdout",
          "text": [
            "Mean Absolute Error: 0.8588690476190474\n",
            "Mean Squared Error: 1.3376541666666664\n",
            "Root Mean Squared Error: 1.1565700007637525\n",
            "Explained Variance Score: 63.697339278849995\n"
          ]
        }
      ]
    },
    {
      "cell_type": "code",
      "source": [
        "# Plot features importances\n",
        "imp = pd.Series(data=rf.feature_importances_, index=X_train.columns).sort_values(ascending=False)[0:15]\n",
        "plt.figure(figsize=(10,5))\n",
        "plt.title(\"Top 15 important features\", fontsize=15)\n",
        "ax = sns.barplot(y=imp.index, x=imp.values, palette=\"Set2\", orient='h')"
      ],
      "metadata": {
        "colab": {
          "base_uri": "https://localhost:8080/",
          "height": 338
        },
        "id": "iBx3i3Stn4wD",
        "outputId": "8d10eae1-f16c-4b95-bac8-558553e9658a"
      },
      "execution_count": null,
      "outputs": [
        {
          "output_type": "display_data",
          "data": {
            "text/plain": [
              "<Figure size 720x360 with 1 Axes>"
            ],
            "image/png": "[encoded data removed]"
          },
          "metadata": {
            "needs_background": "light"
          }
        }
      ]
    },
    {
      "cell_type": "markdown",
      "metadata": {
        "id": "CdTtF04ANzPu"
      },
      "source": [
        "**Hyperparameters tuning**"
      ]
    },
    {
      "cell_type": "code",
      "source": [
        "from sklearn.model_selection import RandomizedSearchCV\n",
        "\n",
        "param_grid = {'bootstrap': [True, False],\n",
        " 'max_depth': [10, 20, 30, 40, 50, 60, 70, 80, 90, 100, None],\n",
        " 'max_features': ['auto', 'sqrt'],\n",
        " 'min_samples_leaf': [1, 2, 4],\n",
        " 'min_samples_split': [2, 5, 10],\n",
        " 'n_estimators': [200, 400, 600, 800, 1000, 1200, 1400, 1600, 1800, 2000]}"
      ],
      "metadata": {
        "id": "WdB_2VWyBb3_"
      },
      "execution_count": null,
      "outputs": []
    },
    {
      "cell_type": "code",
      "source": [
        "rf_random = RandomizedSearchCV(estimator = rf, param_distributions = param_grid, \n",
        "                               n_iter = 50, cv = 3, verbose=2, random_state=777, n_jobs = -1)\n",
        "# Fit the random search model\n",
        "rf_random.fit(X_train, y_train)\n"
      ],
      "metadata": {
        "id": "6s5BxdbUCHnS",
        "colab": {
          "base_uri": "https://localhost:8080/"
        },
        "outputId": "f7defd8f-f9a0-489c-b079-686ede080a75"
      },
      "execution_count": null,
      "outputs": [
        {
          "output_type": "stream",
          "name": "stdout",
          "text": [
            "Fitting 3 folds for each of 50 candidates, totalling 150 fits\n"
          ]
        },
        {
          "output_type": "execute_result",
          "data": {
            "text/plain": [
              "RandomizedSearchCV(cv=3, estimator=RandomForestRegressor(), n_iter=50,\n",
              "                   n_jobs=-1,\n",
              "                   param_distributions={'bootstrap': [True, False],\n",
              "                                        'max_depth': [10, 20, 30, 40, 50, 60,\n",
              "                                                      70, 80, 90, 100, None],\n",
              "                                        'max_features': ['auto', 'sqrt'],\n",
              "                                        'min_samples_leaf': [1, 2, 4],\n",
              "                                        'min_samples_split': [2, 5, 10],\n",
              "                                        'n_estimators': [200, 400, 600, 800,\n",
              "                                                         1000, 1200, 1400, 1600,\n",
              "                                                         1800, 2000]},\n",
              "                   random_state=777, verbose=2)"
            ]
          },
          "metadata": {},
          "execution_count": 57
        }
      ]
    },
    {
      "cell_type": "code",
      "source": [
        "rf_random.best_params_"
      ],
      "metadata": {
        "id": "YLHR59qGCHhA",
        "colab": {
          "base_uri": "https://localhost:8080/"
        },
        "outputId": "e6f1625f-770a-4af6-d462-5e8435d50344"
      },
      "execution_count": null,
      "outputs": [
        {
          "output_type": "execute_result",
          "data": {
            "text/plain": [
              "{'bootstrap': True,\n",
              " 'max_depth': 100,\n",
              " 'max_features': 'auto',\n",
              " 'min_samples_leaf': 1,\n",
              " 'min_samples_split': 2,\n",
              " 'n_estimators': 1800}"
            ]
          },
          "metadata": {},
          "execution_count": 58
        }
      ]
    },
    {
      "cell_type": "code",
      "execution_count": null,
      "metadata": {
        "id": "2eCXaD_h6a3I"
      },
      "outputs": [],
      "source": [
        "from sklearn.metrics import mean_squared_error\n",
        "\n",
        "# Define a new random forest model with our best set of hyperparameters\n",
        "rf_cv = RandomForestRegressor(bootstrap= True, max_depth=100,\n",
        "                              max_features='auto', min_samples_leaf = 1, \n",
        "                              min_samples_split = 2, n_estimators = 2000)\n",
        "rf_cv.fit(X_train, y_train)\n",
        "y_pred_rf_cv = np.round(rf_cv.predict(X_test))"
      ]
    },
    {
      "cell_type": "code",
      "execution_count": null,
      "metadata": {
        "id": "xKdxKRds6d0R",
        "colab": {
          "base_uri": "https://localhost:8080/"
        },
        "outputId": "3aa3c15d-1306-4c16-e4f7-d0b3987cb99e"
      },
      "outputs": [
        {
          "output_type": "stream",
          "name": "stdout",
          "text": [
            "Mean Absolute Error: 0.8579166666666667\n",
            "Mean Squared Error: 1.3284875\n",
            "Root Mean Squared Error: 1.1526003210133164\n",
            "Random Forest Regression Score: 96.01117932022748\n"
          ]
        }
      ],
      "source": [
        "# Random forest model evaluation after cv\n",
        "print('Mean Absolute Error:', metrics.mean_absolute_error(y_test, y_pred_rf_cv))\n",
        "print('Mean Squared Error:', metrics.mean_squared_error(y_test, y_pred_rf_cv))\n",
        "print('Root Mean Squared Error:', np.sqrt(metrics.mean_squared_error(y_test, y_pred_rf_cv)))\n",
        "print('Random Forest Regression Score:',rf_cv.score(X_test,y_pred_rf_cv)*100)"
      ]
    },
    {
      "cell_type": "markdown",
      "metadata": {
        "id": "wUMxtLjROO64"
      },
      "source": [
        "**Our random forest model after hyperparameters tuning might be overfitting. We might want to increase of training samples or do further feature engineering**"
      ]
    },
    {
      "cell_type": "code",
      "execution_count": null,
      "metadata": {
        "id": "FmMeEsUh6iSN",
        "colab": {
          "base_uri": "https://localhost:8080/",
          "height": 338
        },
        "outputId": "d7a8e4f6-309c-47e1-c449-d48e6a9a4646"
      },
      "outputs": [
        {
          "output_type": "display_data",
          "data": {
            "text/plain": [
              "<Figure size 720x360 with 1 Axes>"
            ],
            "image/png": "[encoded data removed]"
          },
          "metadata": {
            "needs_background": "light"
          }
        }
      ],
      "source": [
        "imp_cv = pd.Series(data=rf_cv.feature_importances_, index=X_test.columns).sort_values(ascending=False)[0:15]\n",
        "plt.figure(figsize=(10,5))\n",
        "plt.title(\"Top 15 most important features\", fontsize=15)\n",
        "ax = sns.barplot(y=imp_cv.index, x=imp_cv.values, palette=\"Set2\", orient='h')"
      ]
    },
    {
      "cell_type": "markdown",
      "source": [
        "### **Extreme Gradient Boosting:**"
      ],
      "metadata": {
        "id": "s98V3_8ndISd"
      }
    },
    {
      "cell_type": "code",
      "source": [
        "label = df[\"Price(Cents/kWh)\"]\n",
        "#df.drop(columns=[\"address\",\"sale price\",\"sale date\"],inplace=True)\n",
        "object_column = df.select_dtypes(include=\"object\")\n",
        "number_column = df.select_dtypes(exclude=\"object\")\n",
        "encoder = OrdinalEncoder()\n",
        "object_column = encoder.fit_transform(object_column)\n",
        "data = np.concatenate([number_column.values,object_column],axis=1)\n",
        "#X_train, X_test, y_train, y_test = train_test_split(data, label, test_size=0.3, random_state=780)\n",
        "\n",
        "space={'max_depth': hp.quniform(\"max_depth\", 3, 18, 1),\n",
        "        'gamma': hp.uniform ('gamma', 1,9),\n",
        "        'reg_alpha' : hp.quniform('reg_alpha', 40,180,1),\n",
        "        'reg_lambda' : hp.uniform('reg_lambda', 0,1),\n",
        "        'colsample_bytree' : hp.uniform('colsample_bytree', 0.5,1),\n",
        "        'min_child_weight' : hp.quniform('min_child_weight', 0, 10, 1),\n",
        "        'n_estimators': 180,\n",
        "        'seed': 0}\n",
        "def objective(space):\n",
        "    clf=xgb.XGBRegressor(\n",
        "                    n_estimators =space['n_estimators'],verbosity = 0, max_depth = int(space['max_depth']), gamma = space['gamma'],\n",
        "                    reg_alpha = int(space['reg_alpha']),min_child_weight=int(space['min_child_weight']),\n",
        "                    colsample_bytree=int(space['colsample_bytree']))\n",
        "    evaluation = [( X_train, y_train), ( X_test, y_test)]\n",
        "    clf.fit(X_train, y_train,\n",
        "            eval_set=evaluation, eval_metric=\"rmse\",\n",
        "            early_stopping_rounds=10,verbose=False)\n",
        "    pred = clf.predict(X_test)\n",
        "    rmse = np.sqrt(mean_squared_error(y_test,pred))\n",
        "    print(\"The rmse score is:{}\".format(rmse))\n",
        "    print(\"\\n\")\n",
        "    return {'loss': rmse, 'status': STATUS_OK }\n",
        "\n",
        "trials = Trials()\n",
        "best_hyperparams = fmin(fn = objective,\n",
        "                        space = space,\n",
        "                        algo = tpe.suggest,\n",
        "                        max_evals = 100,\n",
        "                        trials = trials);"
      ],
      "metadata": {
        "id": "_nUns5K_dOIN",
        "colab": {
          "base_uri": "https://localhost:8080/"
        },
        "outputId": "03b495d1-9efa-4a12-e854-9bc3d39e7477"
      },
      "execution_count": null,
      "outputs": [
        {
          "output_type": "stream",
          "name": "stdout",
          "text": [
            "The rmse score is:2.5959832849232973\n",
            "The rmse score is:2.595974919125427\n",
            "The rmse score is:2.5959807426891057\n",
            "The rmse score is:2.5960026308774244\n",
            "The rmse score is:2.5959785984588075\n",
            "The rmse score is:2.5960298062228238\n",
            "The rmse score is:2.5960002914986604\n",
            "The rmse score is:2.5960187807962347\n",
            "The rmse score is:2.5959891123882493\n",
            "The rmse score is:2.595987496239567\n",
            "The rmse score is:2.5959749770257967\n",
            "The rmse score is:2.596027625881458\n",
            "The rmse score is:2.5960233694570487\n",
            "The rmse score is:2.5960036222374283\n",
            "The rmse score is:2.595996219573511\n",
            "The rmse score is:2.5960029617584626\n",
            "The rmse score is:2.596014925041686\n",
            "The rmse score is:2.596018967803396\n",
            "The rmse score is:2.5959889084273375\n",
            "The rmse score is:2.5960234548522676\n",
            "The rmse score is:2.595977855188613\n",
            "The rmse score is:2.5960051287706523\n",
            "The rmse score is:2.5960256477709427\n",
            "The rmse score is:2.595996570053369\n",
            "The rmse score is:2.5960001720585706\n",
            "The rmse score is:2.595976675825232\n",
            "The rmse score is:2.5959749770257967\n",
            "The rmse score is:2.596001946007715\n",
            "The rmse score is:2.595988861848203\n",
            "The rmse score is:2.5959744742785107\n",
            "The rmse score is:2.5959754637454253\n",
            "The rmse score is:2.5959746645871076\n",
            "The rmse score is:2.5959807426891057\n",
            "The rmse score is:2.5959780179539584\n",
            "The rmse score is:2.595765877243374\n",
            "The rmse score is:2.59599253671112\n",
            "The rmse score is:2.5959746723490644\n",
            "The rmse score is:2.5957844436099546\n",
            "The rmse score is:2.595841699641385\n",
            "The rmse score is:2.5957665990636323\n",
            "The rmse score is:2.5959825632538345\n",
            "The rmse score is:2.5959866321467\n",
            "The rmse score is:2.5960396865709137\n",
            "The rmse score is:2.5960588971612304\n",
            "The rmse score is:2.5959793228653423\n",
            "The rmse score is:2.5959743831468725\n",
            "The rmse score is:2.595994442745489\n",
            "The rmse score is:2.596059301530111\n",
            "The rmse score is:2.5959983681878196\n",
            "The rmse score is:2.596014847405475\n",
            "The rmse score is:2.5959785984588075\n",
            "The rmse score is:2.5960181519193957\n",
            "The rmse score is:2.5959779301479284\n",
            "The rmse score is:2.5959758418892367\n",
            "The rmse score is:2.5959772045282197\n",
            "The rmse score is:2.5959743831468725\n",
            "The rmse score is:2.5960153448563656\n",
            "The rmse score is:2.5960256477709427\n",
            "The rmse score is:2.595994135575807\n",
            "The rmse score is:2.596014807696146\n",
            "The rmse score is:2.5960107467274445\n",
            "The rmse score is:2.5960036222374283\n",
            "The rmse score is:2.5959889084273375\n",
            "The rmse score is:2.5959862047540527\n",
            "The rmse score is:2.5959780179539584\n",
            "The rmse score is:2.5957844436099546\n",
            "The rmse score is:2.5960454935524013\n",
            "The rmse score is:2.595990179248129\n",
            "The rmse score is:2.5957716829886848\n",
            "The rmse score is:2.595796138011894\n",
            "The rmse score is:2.5957716829886848\n",
            "The rmse score is:2.5960375209328457\n",
            "The rmse score is:2.5960050105357246\n",
            "The rmse score is:2.5959798658311213\n",
            "The rmse score is:2.596070916320628\n",
            "The rmse score is:2.595974919125427\n",
            "The rmse score is:2.5960269553760296\n",
            "The rmse score is:2.595976675825232\n",
            "The rmse score is:2.596020739908837\n",
            "The rmse score is:2.5959825739852724\n",
            "The rmse score is:2.5959862047540527\n",
            "The rmse score is:2.5960090007709353\n",
            "The rmse score is:2.595783435678236\n",
            "The rmse score is:2.5958418576854836\n",
            "The rmse score is:2.5959758783372666\n",
            "The rmse score is:2.5959743831468725\n",
            "The rmse score is:2.596007132092327\n",
            "The rmse score is:2.5959844411729325\n",
            "The rmse score is:2.595984331972193\n",
            "The rmse score is:2.5959768802431706\n",
            "The rmse score is:2.5960072019643596\n",
            "The rmse score is:2.595992545472992\n",
            "The rmse score is:2.5960036222374283\n",
            "The rmse score is:2.5960327094375364\n",
            "The rmse score is:2.5960075654289505\n",
            "The rmse score is:2.5957690238295137\n",
            "The rmse score is:2.5959749770257967\n",
            "The rmse score is:2.5959742628461493\n",
            "The rmse score is:2.5959808991776057\n",
            "The rmse score is:2.595990638539307\n",
            "100%|██████████| 100/100 [00:25<00:00,  3.98it/s, best loss: 2.595765877243374]\n"
          ]
        }
      ]
    },
    {
      "cell_type": "code",
      "source": [
        "best_hyperparams"
      ],
      "metadata": {
        "id": "gfif1UCLoupJ",
        "colab": {
          "base_uri": "https://localhost:8080/"
        },
        "outputId": "7eb2b822-74ac-482e-ee78-3efb19e2ca49"
      },
      "execution_count": null,
      "outputs": [
        {
          "output_type": "execute_result",
          "data": {
            "text/plain": [
              "{'colsample_bytree': 0.9354274406366061,\n",
              " 'gamma': 1.0493523805937774,\n",
              " 'max_depth': 17.0,\n",
              " 'min_child_weight': 2.0,\n",
              " 'reg_alpha': 123.0,\n",
              " 'reg_lambda': 0.19217284596715647}"
            ]
          },
          "metadata": {},
          "execution_count": 64
        }
      ]
    },
    {
      "cell_type": "code",
      "source": [
        "model_xg =   clf=xgb.XGBRegressor( verbosity=0,\n",
        "                    max_depth = 10, \n",
        "                    gamma = 4.581633341514338,\n",
        "                    min_child_weight=4,\n",
        "                    colsample_bytree=0.7299941523366055,\n",
        "                    reg_alpha = 53.0,\n",
        "                    reg_lambda = 0.256091424228685\n",
        "                    )"
      ],
      "metadata": {
        "id": "mr8HKhV9o65f"
      },
      "execution_count": null,
      "outputs": []
    },
    {
      "cell_type": "code",
      "source": [
        "model_xg.fit(X_train, y_train)\n",
        "y_model_xg = model_xg.predict(X_test)"
      ],
      "metadata": {
        "id": "PY5Lf4VqpFC6"
      },
      "execution_count": null,
      "outputs": []
    },
    {
      "cell_type": "code",
      "source": [
        "# XGBoost model evaluation\n",
        "print('Mean Absolute Error:', metrics.mean_absolute_error(y_test, y_model_xg))\n",
        "print('Mean Squared Error:', metrics.mean_squared_error(y_test, y_model_xg))\n",
        "print('Root Mean Squared Error:', np.sqrt(metrics.mean_squared_error(y_test, y_model_xg)))\n",
        "print('XGBoost Regression Score:',rf_cv.score(X_test,y_model_xg)*100)"
      ],
      "metadata": {
        "id": "WF-gM7zUpIBb",
        "colab": {
          "base_uri": "https://localhost:8080/"
        },
        "outputId": "f9b3b578-7977-4547-8b02-788b646b5508"
      },
      "execution_count": null,
      "outputs": [
        {
          "output_type": "stream",
          "name": "stdout",
          "text": [
            "Mean Absolute Error: 1.2913279270420412\n",
            "Mean Squared Error: 4.310267878769929\n",
            "Root Mean Squared Error: 2.0761184645318123\n",
            "XGBoost Regression Score: 66.30219937506725\n"
          ]
        }
      ]
    },
    {
      "cell_type": "markdown",
      "metadata": {
        "id": "rwYg-jzsJBTT"
      },
      "source": [
        "## Model Interpretation"
      ]
    },
    {
      "cell_type": "code",
      "execution_count": null,
      "metadata": {
        "id": "BIWTgG0MA98p"
      },
      "outputs": [],
      "source": [
        "pip install shap"
      ]
    },
    {
      "cell_type": "code",
      "execution_count": null,
      "metadata": {
        "id": "r4VaDjFsM45w"
      },
      "outputs": [],
      "source": [
        "import shap\n",
        "# Create object that can calculate shap values\n",
        "explainer = shap.TreeExplainer(rf)\n",
        "\n",
        "# calculate shap values. This is what we will plot.\n",
        "# Calculate shap_values for all of val_X rather than a single row, to have more data for plot.\n",
        "shap_values = explainer.shap_values(X_test)"
      ]
    },
    {
      "cell_type": "code",
      "source": [
        "# Make plot. Index of [1] is explained in text below.\n",
        "shap.summary_plot(shap_values, X_test)"
      ],
      "metadata": {
        "id": "e_BQI5soAQWI",
        "colab": {
          "base_uri": "https://localhost:8080/",
          "height": 585
        },
        "outputId": "fe978125-640a-45d3-f06b-a7fe5718752b"
      },
      "execution_count": null,
      "outputs": [
        {
          "output_type": "display_data",
          "data": {
            "text/plain": [
              "<Figure size 576x684 with 2 Axes>"
            ],
            "image/png": "[encoded data removed]"
          },
          "metadata": {
            "needs_background": "light"
          }
        }
      ]
    },
    {
      "cell_type": "markdown",
      "source": [
        "# DATA DICTIONARY : Energy_level.csv\n",
        "1.   Year: years from 2011 to 2020\n",
        "2.   Month: month 1-12\n",
        "3.   State: Northeastern states : Connecticut, Massachusetts, Maine, New Hampshire, New York, Rhode Island and Vermont.\n",
        "4.   Revenue(Thousand $)：revenue from electricity consumption.\n",
        "5.   Consumption(Megawatthours): amount of electricity consumed.\n",
        "6.   Customers(Count): number of customers for each power plant.\n",
        "7.   Price(Cents/kWh): price of electricity in cents of each kWh unit.\n",
        "8.   Precipitation: total rainfall depth during a given period in the unit of millimeters (mm).\n",
        "9.   Temperature: outdoor temperature, measured in degrees Fahrenheit.\n",
        "10.   Drought_index：Weighted sum of all levels of drought serverity estimates.\n",
        "11.   D0: indicates abnormal drought condition estimate.\n",
        "12.   D1: indicates moderate drought condition estimate.\n",
        "13.   D2: indicates severe drought condition estimate.\n",
        "14.   D3: indicates extreme drought condition estimate.\n",
        "15.   D4: indicates exceptional drought condition estimate.\n",
        "16.   PDSI: Palmer drought severity index that indicates the severity of the departure from normal conditions of the soil water balance and estimates relative soil moisture conditions.\n",
        "17.   CAPACITY_MW: amount of electricity generators are able to generate.\n",
        "18.   NET_GEN_MWH: amount of electricity generators actually generate.\n",
        "19.   CAPACITY_MWH: overall amount of electricity capacity that generators generate."
      ],
      "metadata": {
        "id": "XPVdrBEyUOpi"
      }
    },
    {
      "cell_type": "markdown",
      "source": [
        "# DATA DICTIONARY : Plant_level.csv\n",
        "1. Plant id: plant id.\n",
        "2. Plant name: plant name.\n",
        "3. County: located county.\n",
        "4. State: located state.\n",
        "5. state_county_fips: Federal Information Processing Standard (FIPS) code which uniquely identifies counties in a State.\n",
        "5. water_source: EIA-reported name of the plant’s water source for cooling water\n",
        "7. Latitude: Latitude location of the plant in decimal degrees. \n",
        "8. Longitude: Longitude location of the plant in decimal degrees.\n",
        "9. elevation_in_feet: Elevation of power plant in feet (ft), from sea level, vertical datum WGS84.\n",
        "10. com_id: USGS NHDPlus Version 1, common identifier (ComID) which is an integer value that uniquely identifies the catchment associated with each plant.\n",
        "11. gen_type: The generation technology/fuel used to generate electricity.\n",
        "12. CAPACITY_MW: Total EIA-reported nameplate capacity for water-using generators at each plant in megawatts (MW).\n",
        "13. CHP: combined heat and power (CHP) plant flag derived from EIA-reported data; 1 = CHP, 0 = Non-CHP \n",
        "14. USGS_WATER_TYPE: USGS-assigned cooling water type codes.\n",
        "15. MODEL_COOL_TYPE: USGS model-assigned cooling-system technology category.\n",
        "16. MODEL_WD: USGS best estimate of annual water withdrawal in million gallons per day (Mgal/d).\n",
        "17. MODEL_MIN_WD: USGS model-estimated thermodynamically plausible minimum annual withdrawals in million gallons per day (Mgal/d).\n",
        "18. MODEL_MAX_WD: USGS model-estimated thermodynamically plausible maximum annual withdrawals in million gallons per day (Mgal/d).\n",
        "19. EIA_COOL_TYPE: EIA-reported cooling system technology category.\n",
        "20. EIA_WD: Annual water withdrawal as calculated in million gallons per day (Mgal/d) from EIA. \n",
        "21. EIA_WD_INRANGE: Comparison of EIA-reported withdrawal to USGS model-estimated minimum and maximum thermodynamically plausible withdrawal ranges. \n",
        "22. COMP_COOL_TYPE: USGS compilation-reported cooling-system technology category.\n",
        "23. COMP_DATA_SOURCE: USGS-compilation source of thermoelectric withdrawal data.\n",
        "24. COMP_WD: Plant-specific water withdrawal data in million gallons per day (Mgal/d) provided to this study by USGS Water Science Center.\n",
        "25. COMP_TOTAL_WD: Plant-specific annual thermoelectric reclaimed wastewater use in million gallons per day (Mgal/d).\n",
        "26. COMP_WD_INRANGE: Comparison of USGS compilation-reported total water withdrawal to USGS model-estimated thermodynamically plausible minimum and maximum withdrawal ranges.\n",
        "27. NET_GEN_MWH: amount of electricity generators that actually generated.\n",
        "28. MAX_WITHDRAWAL: amount of withdrawal water.\n",
        "29. MIN_CONSUMPTION: minium amount of water consumption.\n",
        "30. MAX_CONSUMPTION: maximum amount of water consumption.\n",
        "31. MIN_CONSUMPTION: minium amount of water consumption.\n",
        "32. Precipitation_1971-2000: total rainfall depth during a given period in the unit of millimeters (mm) from 1971 to 2000.\n",
        "33. Precipitation_2011 - Precipitation_2021: total rainfall depth during a given period in the unit of millimeters (mm) of each year from 2011 to 2021.\n",
        "43. Temperature_2011 - Temperature_2021: outdoor temperature, measured in degrees Fahrenheit of each year from 2011 to 2021."
      ],
      "metadata": {
        "id": "0o630aEMxKnu"
      }
    }
  ]
}